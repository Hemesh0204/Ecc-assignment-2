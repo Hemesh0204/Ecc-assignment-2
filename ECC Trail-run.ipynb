{
 "cells": [
  {
   "cell_type": "markdown",
   "metadata": {
    "application/vnd.databricks.v1+cell": {
     "cellMetadata": {
      "byteLimit": 2048000,
      "rowLimit": 10000
     },
     "inputWidgets": {},
     "nuid": "7284c1d9-4d59-42f8-b83e-7e5aee0ba77a",
     "showTitle": false,
     "title": ""
    }
   },
   "source": [
    "# Question 1"
   ]
  },
  {
   "cell_type": "code",
   "execution_count": 0,
   "metadata": {
    "application/vnd.databricks.v1+cell": {
     "cellMetadata": {
      "byteLimit": 2048000,
      "rowLimit": 10000
     },
     "inputWidgets": {},
     "nuid": "b0a36a83-03a7-428d-9da0-6dc15517aeaa",
     "showTitle": false,
     "title": ""
    }
   },
   "outputs": [
    {
     "output_type": "display_data",
     "data": {
      "application/vnd.databricks.v1+bamboolib_hint": "{\"pd.DataFrames\": [], \"version\": \"0.0.1\"}",
      "text/plain": []
     },
     "metadata": {},
     "output_type": "display_data"
    }
   ],
   "source": [
    "import sys\n",
    "import scipy\n",
    "import pandas as pd\n",
    "import numpy as np\n",
    "\n",
    "from functools import reduce\n",
    "from pyspark import SparkContext, SparkConf\n",
    "from pyspark.sql import SparkSession, functions as F, Row\n",
    "from pyspark.sql.functions import col, when, udf, count, desc, avg, concat, sum, regexp_replace, expr, first\n",
    "from pyspark.sql.window import Window\n",
    "from pyspark.ml.clustering import KMeans\n",
    "from pyspark.ml.feature import VectorAssembler\n",
    "from pyspark.sql.types import IntegerType\n"
   ]
  },
  {
   "cell_type": "markdown",
   "metadata": {
    "application/vnd.databricks.v1+cell": {
     "cellMetadata": {
      "byteLimit": 2048000,
      "rowLimit": 10000
     },
     "inputWidgets": {},
     "nuid": "6f5f0b9e-ace9-484a-89c1-3af61a63a134",
     "showTitle": false,
     "title": ""
    }
   },
   "source": [
    "### Loading the dataset"
   ]
  },
  {
   "cell_type": "code",
   "execution_count": 0,
   "metadata": {
    "application/vnd.databricks.v1+cell": {
     "cellMetadata": {
      "byteLimit": 2048000,
      "rowLimit": 10000
     },
     "inputWidgets": {},
     "nuid": "cdd6a236-02c1-447c-996f-b453ded6f313",
     "showTitle": false,
     "title": ""
    }
   },
   "outputs": [],
   "source": [
    "spark = SparkSession.builder.appName('FirstDataset').getOrCreate()\n",
    "df = spark.read.csv(\"/FileStore/tables/Parking_Violations_Issued___Fiscal_Year_2024_20240407-2.csv\", header=True, inferSchema=True)"
   ]
  },
  {
   "cell_type": "code",
   "execution_count": 0,
   "metadata": {
    "application/vnd.databricks.v1+cell": {
     "cellMetadata": {
      "byteLimit": 2048000,
      "rowLimit": 10000
     },
     "inputWidgets": {},
     "nuid": "f06fc3b2-3dfe-41ce-8ee4-c7119a8495db",
     "showTitle": false,
     "title": ""
    }
   },
   "outputs": [
    {
     "output_type": "display_data",
     "data": {
      "text/html": [
       "<div>\n",
       "<style scoped>\n",
       "    .dataframe tbody tr th:only-of-type {\n",
       "        vertical-align: middle;\n",
       "    }\n",
       "\n",
       "    .dataframe tbody tr th {\n",
       "        vertical-align: top;\n",
       "    }\n",
       "\n",
       "    .dataframe thead th {\n",
       "        text-align: right;\n",
       "    }\n",
       "</style>\n",
       "<table border=\"1\" class=\"dataframe\">\n",
       "  <thead>\n",
       "    <tr style=\"text-align: right;\">\n",
       "      <th></th>\n",
       "      <th>Summons Number</th>\n",
       "      <th>Plate ID</th>\n",
       "      <th>Registration State</th>\n",
       "      <th>Plate Type</th>\n",
       "      <th>Issue Date</th>\n",
       "      <th>Violation Code</th>\n",
       "      <th>Vehicle Body Type</th>\n",
       "      <th>Vehicle Make</th>\n",
       "      <th>Issuing Agency</th>\n",
       "      <th>Street Code1</th>\n",
       "      <th>...</th>\n",
       "      <th>Vehicle Color</th>\n",
       "      <th>Unregistered Vehicle?</th>\n",
       "      <th>Vehicle Year</th>\n",
       "      <th>Meter Number</th>\n",
       "      <th>Feet From Curb</th>\n",
       "      <th>Violation Post Code</th>\n",
       "      <th>Violation Description</th>\n",
       "      <th>No Standing or Stopping Violation</th>\n",
       "      <th>Hydrant Violation</th>\n",
       "      <th>Double Parking Violation</th>\n",
       "    </tr>\n",
       "  </thead>\n",
       "  <tbody>\n",
       "    <tr>\n",
       "      <th>0</th>\n",
       "      <td>1159637337</td>\n",
       "      <td>KZH2758</td>\n",
       "      <td>NY</td>\n",
       "      <td>PAS</td>\n",
       "      <td>2023-06-09</td>\n",
       "      <td>67</td>\n",
       "      <td>VAN</td>\n",
       "      <td>HONDA</td>\n",
       "      <td>P</td>\n",
       "      <td>0</td>\n",
       "      <td>...</td>\n",
       "      <td>BLUE</td>\n",
       "      <td>0</td>\n",
       "      <td>2006</td>\n",
       "      <td>-</td>\n",
       "      <td>0</td>\n",
       "      <td>None</td>\n",
       "      <td>None</td>\n",
       "      <td>None</td>\n",
       "      <td>None</td>\n",
       "      <td>None</td>\n",
       "    </tr>\n",
       "    <tr>\n",
       "      <th>1</th>\n",
       "      <td>1252960645</td>\n",
       "      <td>JPD8746</td>\n",
       "      <td>NY</td>\n",
       "      <td>PAS</td>\n",
       "      <td>2023-06-30</td>\n",
       "      <td>87</td>\n",
       "      <td>SUBN</td>\n",
       "      <td>LINCO</td>\n",
       "      <td>M</td>\n",
       "      <td>17870</td>\n",
       "      <td>...</td>\n",
       "      <td>GRAY</td>\n",
       "      <td>0</td>\n",
       "      <td>2020</td>\n",
       "      <td>-</td>\n",
       "      <td>0</td>\n",
       "      <td>None</td>\n",
       "      <td>None</td>\n",
       "      <td>None</td>\n",
       "      <td>None</td>\n",
       "      <td>None</td>\n",
       "    </tr>\n",
       "    <tr>\n",
       "      <th>2</th>\n",
       "      <td>1252960669</td>\n",
       "      <td>JPD8746</td>\n",
       "      <td>NY</td>\n",
       "      <td>PAS</td>\n",
       "      <td>2023-06-30</td>\n",
       "      <td>31</td>\n",
       "      <td>SUBN</td>\n",
       "      <td>LINCO</td>\n",
       "      <td>M</td>\n",
       "      <td>17870</td>\n",
       "      <td>...</td>\n",
       "      <td>GRAY</td>\n",
       "      <td>0</td>\n",
       "      <td>2020</td>\n",
       "      <td>-</td>\n",
       "      <td>0</td>\n",
       "      <td>None</td>\n",
       "      <td>None</td>\n",
       "      <td>None</td>\n",
       "      <td>None</td>\n",
       "      <td>None</td>\n",
       "    </tr>\n",
       "    <tr>\n",
       "      <th>3</th>\n",
       "      <td>1252994126</td>\n",
       "      <td>MBH9245</td>\n",
       "      <td>99</td>\n",
       "      <td>PAS</td>\n",
       "      <td>2023-07-06</td>\n",
       "      <td>20</td>\n",
       "      <td>SDN</td>\n",
       "      <td>KIA</td>\n",
       "      <td>M</td>\n",
       "      <td>12690</td>\n",
       "      <td>...</td>\n",
       "      <td>WHITE</td>\n",
       "      <td>0</td>\n",
       "      <td>0</td>\n",
       "      <td>-</td>\n",
       "      <td>0</td>\n",
       "      <td>None</td>\n",
       "      <td>None</td>\n",
       "      <td>None</td>\n",
       "      <td>None</td>\n",
       "      <td>None</td>\n",
       "    </tr>\n",
       "    <tr>\n",
       "      <th>4</th>\n",
       "      <td>1252994175</td>\n",
       "      <td>MBH9245</td>\n",
       "      <td>PA</td>\n",
       "      <td>PAS</td>\n",
       "      <td>2023-07-08</td>\n",
       "      <td>40</td>\n",
       "      <td>SDN</td>\n",
       "      <td>KIA</td>\n",
       "      <td>M</td>\n",
       "      <td>12690</td>\n",
       "      <td>...</td>\n",
       "      <td>WHITE</td>\n",
       "      <td>0</td>\n",
       "      <td>0</td>\n",
       "      <td>-</td>\n",
       "      <td>0</td>\n",
       "      <td>None</td>\n",
       "      <td>None</td>\n",
       "      <td>None</td>\n",
       "      <td>None</td>\n",
       "      <td>None</td>\n",
       "    </tr>\n",
       "    <tr>\n",
       "      <th>5</th>\n",
       "      <td>1307574919</td>\n",
       "      <td>LBZ7486</td>\n",
       "      <td>NY</td>\n",
       "      <td>PAS</td>\n",
       "      <td>2023-07-01</td>\n",
       "      <td>14</td>\n",
       "      <td>SUBN</td>\n",
       "      <td>HONDA</td>\n",
       "      <td>P</td>\n",
       "      <td>0</td>\n",
       "      <td>...</td>\n",
       "      <td>BK</td>\n",
       "      <td>0</td>\n",
       "      <td>2014</td>\n",
       "      <td>-</td>\n",
       "      <td>0</td>\n",
       "      <td>None</td>\n",
       "      <td>None</td>\n",
       "      <td>None</td>\n",
       "      <td>None</td>\n",
       "      <td>None</td>\n",
       "    </tr>\n",
       "    <tr>\n",
       "      <th>6</th>\n",
       "      <td>1307574944</td>\n",
       "      <td>JRB4166</td>\n",
       "      <td>FL</td>\n",
       "      <td>PAS</td>\n",
       "      <td>2023-06-07</td>\n",
       "      <td>46</td>\n",
       "      <td>SUBN</td>\n",
       "      <td>HONDA</td>\n",
       "      <td>P</td>\n",
       "      <td>8690</td>\n",
       "      <td>...</td>\n",
       "      <td>None</td>\n",
       "      <td>0</td>\n",
       "      <td>0</td>\n",
       "      <td>-</td>\n",
       "      <td>0</td>\n",
       "      <td>None</td>\n",
       "      <td>None</td>\n",
       "      <td>None</td>\n",
       "      <td>None</td>\n",
       "      <td>None</td>\n",
       "    </tr>\n",
       "    <tr>\n",
       "      <th>7</th>\n",
       "      <td>1307575950</td>\n",
       "      <td>LCA7360J</td>\n",
       "      <td>NY</td>\n",
       "      <td>PAS</td>\n",
       "      <td>2023-06-21</td>\n",
       "      <td>46</td>\n",
       "      <td>SUBN</td>\n",
       "      <td>HONDA</td>\n",
       "      <td>P</td>\n",
       "      <td>0</td>\n",
       "      <td>...</td>\n",
       "      <td>GRY</td>\n",
       "      <td>0</td>\n",
       "      <td>2015</td>\n",
       "      <td>-</td>\n",
       "      <td>0</td>\n",
       "      <td>None</td>\n",
       "      <td>None</td>\n",
       "      <td>None</td>\n",
       "      <td>None</td>\n",
       "      <td>None</td>\n",
       "    </tr>\n",
       "    <tr>\n",
       "      <th>8</th>\n",
       "      <td>1307575973</td>\n",
       "      <td>HNE3840</td>\n",
       "      <td>NY</td>\n",
       "      <td>PAS</td>\n",
       "      <td>2023-06-21</td>\n",
       "      <td>14</td>\n",
       "      <td>SDN</td>\n",
       "      <td>MAZDA</td>\n",
       "      <td>P</td>\n",
       "      <td>0</td>\n",
       "      <td>...</td>\n",
       "      <td>WHT</td>\n",
       "      <td>0</td>\n",
       "      <td>2020</td>\n",
       "      <td>-</td>\n",
       "      <td>0</td>\n",
       "      <td>None</td>\n",
       "      <td>None</td>\n",
       "      <td>None</td>\n",
       "      <td>None</td>\n",
       "      <td>None</td>\n",
       "    </tr>\n",
       "    <tr>\n",
       "      <th>9</th>\n",
       "      <td>1307576886</td>\n",
       "      <td>LAG7093</td>\n",
       "      <td>NY</td>\n",
       "      <td>OMT</td>\n",
       "      <td>2023-06-03</td>\n",
       "      <td>46</td>\n",
       "      <td>SDN</td>\n",
       "      <td>HONDA</td>\n",
       "      <td>P</td>\n",
       "      <td>0</td>\n",
       "      <td>...</td>\n",
       "      <td>BLUE</td>\n",
       "      <td>0</td>\n",
       "      <td>2006</td>\n",
       "      <td>-</td>\n",
       "      <td>0</td>\n",
       "      <td>None</td>\n",
       "      <td>None</td>\n",
       "      <td>None</td>\n",
       "      <td>None</td>\n",
       "      <td>None</td>\n",
       "    </tr>\n",
       "  </tbody>\n",
       "</table>\n",
       "<p>10 rows × 43 columns</p>\n",
       "</div>"
      ]
     },
     "metadata": {
      "application/vnd.databricks.v1+output": {
       "addedWidgets": {},
       "arguments": {},
       "data": "<div>\n<style scoped>\n    .dataframe tbody tr th:only-of-type {\n        vertical-align: middle;\n    }\n\n    .dataframe tbody tr th {\n        vertical-align: top;\n    }\n\n    .dataframe thead th {\n        text-align: right;\n    }\n</style>\n<table border=\"1\" class=\"dataframe\">\n  <thead>\n    <tr style=\"text-align: right;\">\n      <th></th>\n      <th>Summons Number</th>\n      <th>Plate ID</th>\n      <th>Registration State</th>\n      <th>Plate Type</th>\n      <th>Issue Date</th>\n      <th>Violation Code</th>\n      <th>Vehicle Body Type</th>\n      <th>Vehicle Make</th>\n      <th>Issuing Agency</th>\n      <th>Street Code1</th>\n      <th>...</th>\n      <th>Vehicle Color</th>\n      <th>Unregistered Vehicle?</th>\n      <th>Vehicle Year</th>\n      <th>Meter Number</th>\n      <th>Feet From Curb</th>\n      <th>Violation Post Code</th>\n      <th>Violation Description</th>\n      <th>No Standing or Stopping Violation</th>\n      <th>Hydrant Violation</th>\n      <th>Double Parking Violation</th>\n    </tr>\n  </thead>\n  <tbody>\n    <tr>\n      <th>0</th>\n      <td>1159637337</td>\n      <td>KZH2758</td>\n      <td>NY</td>\n      <td>PAS</td>\n      <td>2023-06-09</td>\n      <td>67</td>\n      <td>VAN</td>\n      <td>HONDA</td>\n      <td>P</td>\n      <td>0</td>\n      <td>...</td>\n      <td>BLUE</td>\n      <td>0</td>\n      <td>2006</td>\n      <td>-</td>\n      <td>0</td>\n      <td>None</td>\n      <td>None</td>\n      <td>None</td>\n      <td>None</td>\n      <td>None</td>\n    </tr>\n    <tr>\n      <th>1</th>\n      <td>1252960645</td>\n      <td>JPD8746</td>\n      <td>NY</td>\n      <td>PAS</td>\n      <td>2023-06-30</td>\n      <td>87</td>\n      <td>SUBN</td>\n      <td>LINCO</td>\n      <td>M</td>\n      <td>17870</td>\n      <td>...</td>\n      <td>GRAY</td>\n      <td>0</td>\n      <td>2020</td>\n      <td>-</td>\n      <td>0</td>\n      <td>None</td>\n      <td>None</td>\n      <td>None</td>\n      <td>None</td>\n      <td>None</td>\n    </tr>\n    <tr>\n      <th>2</th>\n      <td>1252960669</td>\n      <td>JPD8746</td>\n      <td>NY</td>\n      <td>PAS</td>\n      <td>2023-06-30</td>\n      <td>31</td>\n      <td>SUBN</td>\n      <td>LINCO</td>\n      <td>M</td>\n      <td>17870</td>\n      <td>...</td>\n      <td>GRAY</td>\n      <td>0</td>\n      <td>2020</td>\n      <td>-</td>\n      <td>0</td>\n      <td>None</td>\n      <td>None</td>\n      <td>None</td>\n      <td>None</td>\n      <td>None</td>\n    </tr>\n    <tr>\n      <th>3</th>\n      <td>1252994126</td>\n      <td>MBH9245</td>\n      <td>99</td>\n      <td>PAS</td>\n      <td>2023-07-06</td>\n      <td>20</td>\n      <td>SDN</td>\n      <td>KIA</td>\n      <td>M</td>\n      <td>12690</td>\n      <td>...</td>\n      <td>WHITE</td>\n      <td>0</td>\n      <td>0</td>\n      <td>-</td>\n      <td>0</td>\n      <td>None</td>\n      <td>None</td>\n      <td>None</td>\n      <td>None</td>\n      <td>None</td>\n    </tr>\n    <tr>\n      <th>4</th>\n      <td>1252994175</td>\n      <td>MBH9245</td>\n      <td>PA</td>\n      <td>PAS</td>\n      <td>2023-07-08</td>\n      <td>40</td>\n      <td>SDN</td>\n      <td>KIA</td>\n      <td>M</td>\n      <td>12690</td>\n      <td>...</td>\n      <td>WHITE</td>\n      <td>0</td>\n      <td>0</td>\n      <td>-</td>\n      <td>0</td>\n      <td>None</td>\n      <td>None</td>\n      <td>None</td>\n      <td>None</td>\n      <td>None</td>\n    </tr>\n    <tr>\n      <th>5</th>\n      <td>1307574919</td>\n      <td>LBZ7486</td>\n      <td>NY</td>\n      <td>PAS</td>\n      <td>2023-07-01</td>\n      <td>14</td>\n      <td>SUBN</td>\n      <td>HONDA</td>\n      <td>P</td>\n      <td>0</td>\n      <td>...</td>\n      <td>BK</td>\n      <td>0</td>\n      <td>2014</td>\n      <td>-</td>\n      <td>0</td>\n      <td>None</td>\n      <td>None</td>\n      <td>None</td>\n      <td>None</td>\n      <td>None</td>\n    </tr>\n    <tr>\n      <th>6</th>\n      <td>1307574944</td>\n      <td>JRB4166</td>\n      <td>FL</td>\n      <td>PAS</td>\n      <td>2023-06-07</td>\n      <td>46</td>\n      <td>SUBN</td>\n      <td>HONDA</td>\n      <td>P</td>\n      <td>8690</td>\n      <td>...</td>\n      <td>None</td>\n      <td>0</td>\n      <td>0</td>\n      <td>-</td>\n      <td>0</td>\n      <td>None</td>\n      <td>None</td>\n      <td>None</td>\n      <td>None</td>\n      <td>None</td>\n    </tr>\n    <tr>\n      <th>7</th>\n      <td>1307575950</td>\n      <td>LCA7360J</td>\n      <td>NY</td>\n      <td>PAS</td>\n      <td>2023-06-21</td>\n      <td>46</td>\n      <td>SUBN</td>\n      <td>HONDA</td>\n      <td>P</td>\n      <td>0</td>\n      <td>...</td>\n      <td>GRY</td>\n      <td>0</td>\n      <td>2015</td>\n      <td>-</td>\n      <td>0</td>\n      <td>None</td>\n      <td>None</td>\n      <td>None</td>\n      <td>None</td>\n      <td>None</td>\n    </tr>\n    <tr>\n      <th>8</th>\n      <td>1307575973</td>\n      <td>HNE3840</td>\n      <td>NY</td>\n      <td>PAS</td>\n      <td>2023-06-21</td>\n      <td>14</td>\n      <td>SDN</td>\n      <td>MAZDA</td>\n      <td>P</td>\n      <td>0</td>\n      <td>...</td>\n      <td>WHT</td>\n      <td>0</td>\n      <td>2020</td>\n      <td>-</td>\n      <td>0</td>\n      <td>None</td>\n      <td>None</td>\n      <td>None</td>\n      <td>None</td>\n      <td>None</td>\n    </tr>\n    <tr>\n      <th>9</th>\n      <td>1307576886</td>\n      <td>LAG7093</td>\n      <td>NY</td>\n      <td>OMT</td>\n      <td>2023-06-03</td>\n      <td>46</td>\n      <td>SDN</td>\n      <td>HONDA</td>\n      <td>P</td>\n      <td>0</td>\n      <td>...</td>\n      <td>BLUE</td>\n      <td>0</td>\n      <td>2006</td>\n      <td>-</td>\n      <td>0</td>\n      <td>None</td>\n      <td>None</td>\n      <td>None</td>\n      <td>None</td>\n      <td>None</td>\n    </tr>\n  </tbody>\n</table>\n<p>10 rows × 43 columns</p>\n</div>",
       "datasetInfos": [],
       "metadata": {},
       "removedWidgets": [],
       "textData": null,
       "type": "htmlSandbox"
      }
     },
     "output_type": "display_data"
    }
   ],
   "source": [
    "df_pd = df.limit(10).toPandas()\n",
    "df_pd"
   ]
  },
  {
   "cell_type": "code",
   "execution_count": 0,
   "metadata": {
    "application/vnd.databricks.v1+cell": {
     "cellMetadata": {
      "byteLimit": 2048000,
      "rowLimit": 10000
     },
     "inputWidgets": {},
     "nuid": "afb4d2cc-d1a9-44f0-a394-1d5960786d1f",
     "showTitle": false,
     "title": ""
    }
   },
   "outputs": [
    {
     "output_type": "stream",
     "name": "stdout",
     "output_type": "stream",
     "text": [
      "root\n |-- Summons Number: long (nullable = true)\n |-- Plate ID: string (nullable = true)\n |-- Registration State: string (nullable = true)\n |-- Plate Type: string (nullable = true)\n |-- Issue Date: date (nullable = true)\n |-- Violation Code: integer (nullable = true)\n |-- Vehicle Body Type: string (nullable = true)\n |-- Vehicle Make: string (nullable = true)\n |-- Issuing Agency: string (nullable = true)\n |-- Street Code1: integer (nullable = true)\n |-- Street Code2: integer (nullable = true)\n |-- Street Code3: integer (nullable = true)\n |-- Vehicle Expiration Date: integer (nullable = true)\n |-- Violation Location: integer (nullable = true)\n |-- Violation Precinct: integer (nullable = true)\n |-- Issuer Precinct: integer (nullable = true)\n |-- Issuer Code: integer (nullable = true)\n |-- Issuer Command: string (nullable = true)\n |-- Issuer Squad: string (nullable = true)\n |-- Violation Time: string (nullable = true)\n |-- Time First Observed: string (nullable = true)\n |-- Violation County: string (nullable = true)\n |-- Violation In Front Of Or Opposite: string (nullable = true)\n |-- House Number: string (nullable = true)\n |-- Street Name: string (nullable = true)\n |-- Intersecting Street: string (nullable = true)\n |-- Date First Observed: integer (nullable = true)\n |-- Law Section: integer (nullable = true)\n |-- Sub Division: string (nullable = true)\n |-- Violation Legal Code: string (nullable = true)\n |-- Days Parking In Effect    : string (nullable = true)\n |-- From Hours In Effect: string (nullable = true)\n |-- To Hours In Effect: string (nullable = true)\n |-- Vehicle Color: string (nullable = true)\n |-- Unregistered Vehicle?: integer (nullable = true)\n |-- Vehicle Year: integer (nullable = true)\n |-- Meter Number: string (nullable = true)\n |-- Feet From Curb: integer (nullable = true)\n |-- Violation Post Code: string (nullable = true)\n |-- Violation Description: string (nullable = true)\n |-- No Standing or Stopping Violation: string (nullable = true)\n |-- Hydrant Violation: string (nullable = true)\n |-- Double Parking Violation: string (nullable = true)\n\n"
     ]
    }
   ],
   "source": [
    "df.printSchema()"
   ]
  },
  {
   "cell_type": "code",
   "execution_count": 0,
   "metadata": {
    "application/vnd.databricks.v1+cell": {
     "cellMetadata": {
      "byteLimit": 2048000,
      "rowLimit": 10000
     },
     "inputWidgets": {},
     "nuid": "e086f176-f683-45a8-897a-0ca35c9de54e",
     "showTitle": false,
     "title": ""
    }
   },
   "outputs": [
    {
     "output_type": "display_data",
     "data": {
      "text/html": [
       "<div>\n",
       "<style scoped>\n",
       "    .dataframe tbody tr th:only-of-type {\n",
       "        vertical-align: middle;\n",
       "    }\n",
       "\n",
       "    .dataframe tbody tr th {\n",
       "        vertical-align: top;\n",
       "    }\n",
       "\n",
       "    .dataframe thead th {\n",
       "        text-align: right;\n",
       "    }\n",
       "</style>\n",
       "<table border=\"1\" class=\"dataframe\">\n",
       "  <thead>\n",
       "    <tr style=\"text-align: right;\">\n",
       "      <th></th>\n",
       "      <th>Summons Number</th>\n",
       "      <th>Plate ID</th>\n",
       "      <th>Registration State</th>\n",
       "      <th>Plate Type</th>\n",
       "      <th>Issue Date</th>\n",
       "      <th>Violation Code</th>\n",
       "      <th>Vehicle Body Type</th>\n",
       "      <th>Vehicle Make</th>\n",
       "      <th>Issuing Agency</th>\n",
       "      <th>Street Code1</th>\n",
       "      <th>...</th>\n",
       "      <th>Vehicle Color</th>\n",
       "      <th>Unregistered Vehicle?</th>\n",
       "      <th>Vehicle Year</th>\n",
       "      <th>Meter Number</th>\n",
       "      <th>Feet From Curb</th>\n",
       "      <th>Violation Post Code</th>\n",
       "      <th>Violation Description</th>\n",
       "      <th>No Standing or Stopping Violation</th>\n",
       "      <th>Hydrant Violation</th>\n",
       "      <th>Double Parking Violation</th>\n",
       "    </tr>\n",
       "  </thead>\n",
       "  <tbody>\n",
       "    <tr>\n",
       "      <th>0</th>\n",
       "      <td>0</td>\n",
       "      <td>1</td>\n",
       "      <td>0</td>\n",
       "      <td>0</td>\n",
       "      <td>0</td>\n",
       "      <td>0</td>\n",
       "      <td>28486</td>\n",
       "      <td>10679</td>\n",
       "      <td>0</td>\n",
       "      <td>0</td>\n",
       "      <td>...</td>\n",
       "      <td>1015121</td>\n",
       "      <td>10490502</td>\n",
       "      <td>0</td>\n",
       "      <td>9381186</td>\n",
       "      <td>0</td>\n",
       "      <td>5519326</td>\n",
       "      <td>227812</td>\n",
       "      <td>10717482</td>\n",
       "      <td>10717482</td>\n",
       "      <td>10717482</td>\n",
       "    </tr>\n",
       "  </tbody>\n",
       "</table>\n",
       "<p>1 rows × 43 columns</p>\n",
       "</div>"
      ]
     },
     "metadata": {
      "application/vnd.databricks.v1+output": {
       "addedWidgets": {},
       "arguments": {},
       "data": "<div>\n<style scoped>\n    .dataframe tbody tr th:only-of-type {\n        vertical-align: middle;\n    }\n\n    .dataframe tbody tr th {\n        vertical-align: top;\n    }\n\n    .dataframe thead th {\n        text-align: right;\n    }\n</style>\n<table border=\"1\" class=\"dataframe\">\n  <thead>\n    <tr style=\"text-align: right;\">\n      <th></th>\n      <th>Summons Number</th>\n      <th>Plate ID</th>\n      <th>Registration State</th>\n      <th>Plate Type</th>\n      <th>Issue Date</th>\n      <th>Violation Code</th>\n      <th>Vehicle Body Type</th>\n      <th>Vehicle Make</th>\n      <th>Issuing Agency</th>\n      <th>Street Code1</th>\n      <th>...</th>\n      <th>Vehicle Color</th>\n      <th>Unregistered Vehicle?</th>\n      <th>Vehicle Year</th>\n      <th>Meter Number</th>\n      <th>Feet From Curb</th>\n      <th>Violation Post Code</th>\n      <th>Violation Description</th>\n      <th>No Standing or Stopping Violation</th>\n      <th>Hydrant Violation</th>\n      <th>Double Parking Violation</th>\n    </tr>\n  </thead>\n  <tbody>\n    <tr>\n      <th>0</th>\n      <td>0</td>\n      <td>1</td>\n      <td>0</td>\n      <td>0</td>\n      <td>0</td>\n      <td>0</td>\n      <td>28486</td>\n      <td>10679</td>\n      <td>0</td>\n      <td>0</td>\n      <td>...</td>\n      <td>1015121</td>\n      <td>10490502</td>\n      <td>0</td>\n      <td>9381186</td>\n      <td>0</td>\n      <td>5519326</td>\n      <td>227812</td>\n      <td>10717482</td>\n      <td>10717482</td>\n      <td>10717482</td>\n    </tr>\n  </tbody>\n</table>\n<p>1 rows × 43 columns</p>\n</div>",
       "datasetInfos": [],
       "metadata": {},
       "removedWidgets": [],
       "textData": null,
       "type": "htmlSandbox"
      }
     },
     "output_type": "display_data"
    }
   ],
   "source": [
    "# Lets check for the number of missing values for each columm\n",
    "from pyspark.sql.functions import isnull, when, count, col\n",
    "null_counts = df.select([\n",
    "    count(when(isnull(c), c)).alias(c) for c in df.columns\n",
    "]).toPandas()\n",
    "null_counts\n",
    "\n"
   ]
  },
  {
   "cell_type": "code",
   "execution_count": 0,
   "metadata": {
    "application/vnd.databricks.v1+cell": {
     "cellMetadata": {
      "byteLimit": 2048000,
      "rowLimit": 10000
     },
     "inputWidgets": {},
     "nuid": "9fdb9a2a-fa2b-4fee-9c1e-31c344b9ade6",
     "showTitle": false,
     "title": ""
    }
   },
   "outputs": [
    {
     "output_type": "stream",
     "name": "stdout",
     "output_type": "stream",
     "text": [
      "Out[6]: [('Summons Number', 'bigint'),\n ('Plate ID', 'string'),\n ('Registration State', 'string'),\n ('Plate Type', 'string'),\n ('Issue Date', 'date'),\n ('Violation Code', 'int'),\n ('Vehicle Body Type', 'string'),\n ('Vehicle Make', 'string'),\n ('Issuing Agency', 'string'),\n ('Street Code1', 'int'),\n ('Street Code2', 'int'),\n ('Street Code3', 'int'),\n ('Vehicle Expiration Date', 'int'),\n ('Violation Location', 'int'),\n ('Violation Precinct', 'int'),\n ('Issuer Precinct', 'int'),\n ('Issuer Code', 'int'),\n ('Issuer Command', 'string'),\n ('Issuer Squad', 'string'),\n ('Violation Time', 'string'),\n ('Time First Observed', 'string'),\n ('Violation County', 'string'),\n ('Violation In Front Of Or Opposite', 'string'),\n ('House Number', 'string'),\n ('Street Name', 'string'),\n ('Intersecting Street', 'string'),\n ('Date First Observed', 'int'),\n ('Law Section', 'int'),\n ('Sub Division', 'string'),\n ('Violation Legal Code', 'string'),\n ('Days Parking In Effect    ', 'string'),\n ('From Hours In Effect', 'string'),\n ('To Hours In Effect', 'string'),\n ('Vehicle Color', 'string'),\n ('Unregistered Vehicle?', 'int'),\n ('Vehicle Year', 'int'),\n ('Meter Number', 'string'),\n ('Feet From Curb', 'int'),\n ('Violation Post Code', 'string'),\n ('Violation Description', 'string'),\n ('No Standing or Stopping Violation', 'string'),\n ('Hydrant Violation', 'string'),\n ('Double Parking Violation', 'string')]"
     ]
    }
   ],
   "source": [
    "df.dtypes"
   ]
  },
  {
   "cell_type": "code",
   "execution_count": 0,
   "metadata": {
    "application/vnd.databricks.v1+cell": {
     "cellMetadata": {
      "byteLimit": 2048000,
      "rowLimit": 10000
     },
     "inputWidgets": {},
     "nuid": "341e82e1-be31-4352-8620-4ad462a273d5",
     "showTitle": false,
     "title": ""
    }
   },
   "outputs": [],
   "source": [
    "# Since we have both numerical and categorical missing values lets find the those colums and handel the fill the missing values seperately\n",
    "num_cols = [col for col, datatype in df.dtypes if datatype in ('int')]\n",
    "cat_cols = [col for col in df.columns if col not in num_cols]"
   ]
  },
  {
   "cell_type": "markdown",
   "metadata": {
    "application/vnd.databricks.v1+cell": {
     "cellMetadata": {
      "byteLimit": 2048000,
      "rowLimit": 10000
     },
     "inputWidgets": {},
     "nuid": "561a0a34-6b7e-4024-bbf5-4323f4f67412",
     "showTitle": false,
     "title": ""
    }
   },
   "source": [
    "### Handel the missing values"
   ]
  },
  {
   "cell_type": "code",
   "execution_count": 0,
   "metadata": {
    "application/vnd.databricks.v1+cell": {
     "cellMetadata": {
      "byteLimit": 2048000,
      "rowLimit": 10000
     },
     "inputWidgets": {},
     "nuid": "7d848027-caff-4cd4-bbae-377ea0d3b1b6",
     "showTitle": false,
     "title": ""
    }
   },
   "outputs": [],
   "source": [
    "'''\n",
    "we will be replacing missing values in numerical cols with 0 and categorical columns with \"na\"\n",
    "Filling 0 for all the numerical cols, is not ideal but since we are not doing any deep analysis and to keep it simple I would be sticking with filling 0's\n",
    "'''\n",
    "\n",
    "for feature in num_cols:\n",
    "  df = df.withColumn(feature, when(col(feature).isNull(), 0).otherwise(col(feature)))\n",
    "\n",
    "for feature in cat_cols:\n",
    "  df = df.withColumn(feature, when(col(feature).isNull(), 'na').otherwise(col(feature)))"
   ]
  },
  {
   "cell_type": "code",
   "execution_count": 0,
   "metadata": {
    "application/vnd.databricks.v1+cell": {
     "cellMetadata": {
      "byteLimit": 2048000,
      "rowLimit": 10000
     },
     "inputWidgets": {},
     "nuid": "9a5a4862-65db-475f-996d-8269036c6c92",
     "showTitle": false,
     "title": ""
    }
   },
   "outputs": [
    {
     "output_type": "display_data",
     "data": {
      "text/html": [
       "<div>\n",
       "<style scoped>\n",
       "    .dataframe tbody tr th:only-of-type {\n",
       "        vertical-align: middle;\n",
       "    }\n",
       "\n",
       "    .dataframe tbody tr th {\n",
       "        vertical-align: top;\n",
       "    }\n",
       "\n",
       "    .dataframe thead th {\n",
       "        text-align: right;\n",
       "    }\n",
       "</style>\n",
       "<table border=\"1\" class=\"dataframe\">\n",
       "  <thead>\n",
       "    <tr style=\"text-align: right;\">\n",
       "      <th></th>\n",
       "      <th>Summons Number</th>\n",
       "      <th>Plate ID</th>\n",
       "      <th>Registration State</th>\n",
       "      <th>Plate Type</th>\n",
       "      <th>Issue Date</th>\n",
       "      <th>Violation Code</th>\n",
       "      <th>Vehicle Body Type</th>\n",
       "      <th>Vehicle Make</th>\n",
       "      <th>Issuing Agency</th>\n",
       "      <th>Street Code1</th>\n",
       "      <th>...</th>\n",
       "      <th>Vehicle Color</th>\n",
       "      <th>Unregistered Vehicle?</th>\n",
       "      <th>Vehicle Year</th>\n",
       "      <th>Meter Number</th>\n",
       "      <th>Feet From Curb</th>\n",
       "      <th>Violation Post Code</th>\n",
       "      <th>Violation Description</th>\n",
       "      <th>No Standing or Stopping Violation</th>\n",
       "      <th>Hydrant Violation</th>\n",
       "      <th>Double Parking Violation</th>\n",
       "    </tr>\n",
       "  </thead>\n",
       "  <tbody>\n",
       "    <tr>\n",
       "      <th>0</th>\n",
       "      <td>0</td>\n",
       "      <td>0</td>\n",
       "      <td>0</td>\n",
       "      <td>0</td>\n",
       "      <td>0</td>\n",
       "      <td>0</td>\n",
       "      <td>0</td>\n",
       "      <td>0</td>\n",
       "      <td>0</td>\n",
       "      <td>0</td>\n",
       "      <td>...</td>\n",
       "      <td>0</td>\n",
       "      <td>0</td>\n",
       "      <td>0</td>\n",
       "      <td>0</td>\n",
       "      <td>0</td>\n",
       "      <td>0</td>\n",
       "      <td>0</td>\n",
       "      <td>0</td>\n",
       "      <td>0</td>\n",
       "      <td>0</td>\n",
       "    </tr>\n",
       "  </tbody>\n",
       "</table>\n",
       "<p>1 rows × 43 columns</p>\n",
       "</div>"
      ]
     },
     "metadata": {
      "application/vnd.databricks.v1+output": {
       "addedWidgets": {},
       "arguments": {},
       "data": "<div>\n<style scoped>\n    .dataframe tbody tr th:only-of-type {\n        vertical-align: middle;\n    }\n\n    .dataframe tbody tr th {\n        vertical-align: top;\n    }\n\n    .dataframe thead th {\n        text-align: right;\n    }\n</style>\n<table border=\"1\" class=\"dataframe\">\n  <thead>\n    <tr style=\"text-align: right;\">\n      <th></th>\n      <th>Summons Number</th>\n      <th>Plate ID</th>\n      <th>Registration State</th>\n      <th>Plate Type</th>\n      <th>Issue Date</th>\n      <th>Violation Code</th>\n      <th>Vehicle Body Type</th>\n      <th>Vehicle Make</th>\n      <th>Issuing Agency</th>\n      <th>Street Code1</th>\n      <th>...</th>\n      <th>Vehicle Color</th>\n      <th>Unregistered Vehicle?</th>\n      <th>Vehicle Year</th>\n      <th>Meter Number</th>\n      <th>Feet From Curb</th>\n      <th>Violation Post Code</th>\n      <th>Violation Description</th>\n      <th>No Standing or Stopping Violation</th>\n      <th>Hydrant Violation</th>\n      <th>Double Parking Violation</th>\n    </tr>\n  </thead>\n  <tbody>\n    <tr>\n      <th>0</th>\n      <td>0</td>\n      <td>0</td>\n      <td>0</td>\n      <td>0</td>\n      <td>0</td>\n      <td>0</td>\n      <td>0</td>\n      <td>0</td>\n      <td>0</td>\n      <td>0</td>\n      <td>...</td>\n      <td>0</td>\n      <td>0</td>\n      <td>0</td>\n      <td>0</td>\n      <td>0</td>\n      <td>0</td>\n      <td>0</td>\n      <td>0</td>\n      <td>0</td>\n      <td>0</td>\n    </tr>\n  </tbody>\n</table>\n<p>1 rows × 43 columns</p>\n</div>",
       "datasetInfos": [],
       "metadata": {},
       "removedWidgets": [],
       "textData": null,
       "type": "htmlSandbox"
      }
     },
     "output_type": "display_data"
    }
   ],
   "source": [
    "null_counts = df.select([\n",
    "    count(when(isnull(c), c)).alias(c) for c in df.columns\n",
    "]).toPandas()\n",
    "null_counts"
   ]
  },
  {
   "cell_type": "markdown",
   "metadata": {
    "application/vnd.databricks.v1+cell": {
     "cellMetadata": {
      "byteLimit": 2048000,
      "rowLimit": 10000
     },
     "inputWidgets": {},
     "nuid": "59dedff1-18e0-44d8-9e9a-0332aeaa8e10",
     "showTitle": false,
     "title": ""
    }
   },
   "source": [
    "### When are tickets most likely to be issued?"
   ]
  },
  {
   "cell_type": "code",
   "execution_count": 0,
   "metadata": {
    "application/vnd.databricks.v1+cell": {
     "cellMetadata": {
      "byteLimit": 2048000,
      "rowLimit": 10000
     },
     "inputWidgets": {},
     "nuid": "d776eb0d-6134-4d83-858c-ddabb8899fb3",
     "showTitle": false,
     "title": ""
    }
   },
   "outputs": [
    {
     "output_type": "stream",
     "name": "stdout",
     "output_type": "stream",
     "text": [
      "+--------------+-----+\n|Violation Time|count|\n+--------------+-----+\n|         0836A|20112|\n|         0839A|19531|\n|         0840A|19436|\n|         0838A|19433|\n|         0906A|19412|\n|         1139A|19255|\n|         1140A|19154|\n|         1141A|19135|\n|         0841A|18987|\n|         1142A|18936|\n|         1145A|18917|\n|         0837A|18893|\n|         0842A|18806|\n|         1143A|18738|\n|         0910A|18698|\n|         1138A|18678|\n|         0845A|18648|\n|         0908A|18648|\n|         0909A|18604|\n|         1136A|18540|\n+--------------+-----+\nonly showing top 20 rows\n\n"
     ]
    }
   ],
   "source": [
    "# We will be grouping the data based on the violation time and counting and displaying them in descending\n",
    "ans_1 = df.groupBy('Violation Time').count().alias(\"Count\").orderBy(desc(\"Count\"))\n",
    "ans_1.show()"
   ]
  },
  {
   "cell_type": "markdown",
   "metadata": {
    "application/vnd.databricks.v1+cell": {
     "cellMetadata": {
      "byteLimit": 2048000,
      "rowLimit": 10000
     },
     "inputWidgets": {},
     "nuid": "f832f969-e37c-4983-bd11-6af8caacd2e5",
     "showTitle": false,
     "title": ""
    }
   },
   "source": [
    "# Question 2: What are the most common years and types of cars to be ticketed?"
   ]
  },
  {
   "cell_type": "code",
   "execution_count": 0,
   "metadata": {
    "application/vnd.databricks.v1+cell": {
     "cellMetadata": {
      "byteLimit": 2048000,
      "rowLimit": 10000
     },
     "inputWidgets": {},
     "nuid": "05f00183-4f34-416a-ae10-46a5f9f638df",
     "showTitle": false,
     "title": ""
    }
   },
   "outputs": [
    {
     "output_type": "stream",
     "name": "stdout",
     "output_type": "stream",
     "text": [
      "Out[11]: 10717482"
     ]
    }
   ],
   "source": [
    "df.count()"
   ]
  },
  {
   "cell_type": "code",
   "execution_count": 0,
   "metadata": {
    "application/vnd.databricks.v1+cell": {
     "cellMetadata": {
      "byteLimit": 2048000,
      "rowLimit": 10000
     },
     "inputWidgets": {},
     "nuid": "5de0763c-d427-4ce1-b23c-47c6676f9e13",
     "showTitle": false,
     "title": ""
    }
   },
   "outputs": [
    {
     "output_type": "stream",
     "name": "stdout",
     "output_type": "stream",
     "text": [
      "Out[12]: 8939390"
     ]
    }
   ],
   "source": [
    "# Remember that we have filled all missing values with zeroes, even the column had some missing values so, I will be filtering the rows without 0 in year columns\n",
    "df_2 = df.filter(df['Vehicle Year'] != 0)\n",
    "df_2.count()"
   ]
  },
  {
   "cell_type": "code",
   "execution_count": 0,
   "metadata": {
    "application/vnd.databricks.v1+cell": {
     "cellMetadata": {
      "byteLimit": 2048000,
      "rowLimit": 10000
     },
     "inputWidgets": {},
     "nuid": "35748780-5293-499d-850b-e719b82a4663",
     "showTitle": false,
     "title": ""
    }
   },
   "outputs": [
    {
     "output_type": "stream",
     "name": "stdout",
     "output_type": "stream",
     "text": [
      "Out[13]: 16.59057603269126"
     ]
    }
   ],
   "source": [
    "(10717482 - 8939390)*100/10717482"
   ]
  },
  {
   "cell_type": "markdown",
   "metadata": {
    "application/vnd.databricks.v1+cell": {
     "cellMetadata": {
      "byteLimit": 2048000,
      "rowLimit": 10000
     },
     "inputWidgets": {},
     "nuid": "8299ed98-5b32-452f-8503-92c05b8e9812",
     "showTitle": false,
     "title": ""
    }
   },
   "source": [
    "There is about 16% of values being dropped due to year value being 0"
   ]
  },
  {
   "cell_type": "code",
   "execution_count": 0,
   "metadata": {
    "application/vnd.databricks.v1+cell": {
     "cellMetadata": {
      "byteLimit": 2048000,
      "rowLimit": 10000
     },
     "inputWidgets": {},
     "nuid": "14f024dd-fca5-42a6-8b09-52201eedbb5a",
     "showTitle": false,
     "title": ""
    }
   },
   "outputs": [
    {
     "output_type": "stream",
     "name": "stdout",
     "output_type": "stream",
     "text": [
      "+------------+-----------------+------+\n|Vehicle Year|Vehicle Body Type| count|\n+------------+-----------------+------+\n|        2021|             SUBN|468827|\n|        2022|             SUBN|452375|\n|        2023|             SUBN|447136|\n|        2019|             SUBN|345019|\n|        2020|             SUBN|343284|\n|        2018|             SUBN|275701|\n|        2017|             SUBN|226830|\n|        2016|             SUBN|186232|\n|        2015|             SUBN|180923|\n|        2017|             4DSD|155318|\n+------------+-----------------+------+\nonly showing top 10 rows\n\n"
     ]
    }
   ],
   "source": [
    "# Now we will group by year and vehicle make and sort them in descending order\n",
    "ans_2 = df_2.groupBy('Vehicle Year', 'Vehicle Body Type').count().\\\n",
    "        orderBy(desc(\"count\"))\n",
    "ans_2.show(10)"
   ]
  },
  {
   "cell_type": "markdown",
   "metadata": {
    "application/vnd.databricks.v1+cell": {
     "cellMetadata": {
      "byteLimit": 2048000,
      "rowLimit": 10000
     },
     "inputWidgets": {},
     "nuid": "87b91103-885e-4fe5-95c6-9343214e86e9",
     "showTitle": false,
     "title": ""
    }
   },
   "source": [
    "# Question 3: Where are tickets most commonly issued? "
   ]
  },
  {
   "cell_type": "code",
   "execution_count": 0,
   "metadata": {
    "application/vnd.databricks.v1+cell": {
     "cellMetadata": {
      "byteLimit": 2048000,
      "rowLimit": 10000
     },
     "inputWidgets": {},
     "nuid": "dfda9483-f1c6-4bc7-9e0e-08207b47b3e5",
     "showTitle": false,
     "title": ""
    }
   },
   "outputs": [
    {
     "output_type": "stream",
     "name": "stdout",
     "output_type": "stream",
     "text": [
      "+------------------+-------+\n|Violation Location|  count|\n+------------------+-------+\n|                 0|4923863|\n|                19| 276203|\n|               114| 213205|\n|                 6| 207636|\n|                13| 189589|\n|                14| 178348|\n|               109| 153765|\n|                 1| 148286|\n|                18| 147809|\n|                 9| 142074|\n|               115| 135832|\n|                61| 116439|\n|                66| 115903|\n|                20| 115747|\n|               112| 109812|\n|                70| 107721|\n|                84| 104404|\n|               103| 104246|\n|                52| 103097|\n|               108| 102733|\n+------------------+-------+\nonly showing top 20 rows\n\n"
     ]
    }
   ],
   "source": [
    "# Assuming the question is about the violation location column, because question is vague, not sure about it. But the same code could be used violation county, street code_(1,2,3), and other location features\n",
    "\n",
    "ans_3 = df.groupBy('Violation Location').count().orderBy(desc(\"count\"))\n",
    "ans_3.show()"
   ]
  },
  {
   "cell_type": "markdown",
   "metadata": {
    "application/vnd.databricks.v1+cell": {
     "cellMetadata": {
      "byteLimit": 2048000,
      "rowLimit": 10000
     },
     "inputWidgets": {},
     "nuid": "cc386177-26c8-46c5-8a6a-913dd70ab874",
     "showTitle": false,
     "title": ""
    }
   },
   "source": [
    "# Question 4: Which color of the vehicle is most likely to get a ticket? "
   ]
  },
  {
   "cell_type": "code",
   "execution_count": 0,
   "metadata": {
    "application/vnd.databricks.v1+cell": {
     "cellMetadata": {
      "byteLimit": 2048000,
      "rowLimit": 10000
     },
     "inputWidgets": {},
     "nuid": "271ae740-80fe-4e35-838f-da7d7b26a176",
     "showTitle": false,
     "title": ""
    }
   },
   "outputs": [
    {
     "output_type": "stream",
     "name": "stdout",
     "output_type": "stream",
     "text": [
      "+-------------+-------+\n|Vehicle Color|  count|\n+-------------+-------+\n|           GY|2086345|\n|           WH|1924600|\n|           BK|1821705|\n|           na|1015121|\n|           BL| 688919|\n|        WHITE| 610936|\n|        BLACK| 401993|\n|           RD| 393388|\n|         GREY| 303176|\n|         BLUE| 140721|\n+-------------+-------+\nonly showing top 10 rows\n\n"
     ]
    }
   ],
   "source": [
    "# Similar to previous code we need to group by and count the number of cars per color and sort them in descending order\n",
    "ans_4 = df.groupBy('Vehicle Color').count().orderBy(desc(\"count\"))\n",
    "ans_4.show(10)"
   ]
  },
  {
   "cell_type": "markdown",
   "metadata": {
    "application/vnd.databricks.v1+cell": {
     "cellMetadata": {
      "byteLimit": 2048000,
      "rowLimit": 10000
     },
     "inputWidgets": {},
     "nuid": "9481a443-1d72-487d-9554-a9c7a0c836ca",
     "showTitle": false,
     "title": ""
    }
   },
   "source": [
    "# Question 5: Given a Black vehicle parking illegally at 34510, 10030, 34050 (street codes). What is the probability that it will get an ticket? (very rough prediction). "
   ]
  },
  {
   "cell_type": "code",
   "execution_count": 0,
   "metadata": {
    "application/vnd.databricks.v1+cell": {
     "cellMetadata": {
      "byteLimit": 2048000,
      "rowLimit": 10000
     },
     "inputWidgets": {},
     "nuid": "c1802ab4-0fbb-4307-b332-6043a3ec6794",
     "showTitle": false,
     "title": ""
    }
   },
   "outputs": [],
   "source": [
    "# We will be grouping the data based on the violation time and counting and displaying them in descending\n",
    "df_5 = df.select('Street Code1', 'Street Code2', 'Street Code3', 'Vehicle Color')"
   ]
  },
  {
   "cell_type": "code",
   "execution_count": 0,
   "metadata": {
    "application/vnd.databricks.v1+cell": {
     "cellMetadata": {
      "byteLimit": 2048000,
      "rowLimit": 10000
     },
     "inputWidgets": {},
     "nuid": "50cdd376-4df4-435c-ba31-eca385b61a48",
     "showTitle": false,
     "title": ""
    }
   },
   "outputs": [],
   "source": [
    "# Combine the three feature into one single vector\n",
    "assembler = VectorAssembler(inputCols=['Street Code1', 'Street Code2', 'Street Code3'], outputCol='features')\n",
    "feature_vector = assembler.transform(df_5)\n"
   ]
  },
  {
   "cell_type": "code",
   "execution_count": 0,
   "metadata": {
    "application/vnd.databricks.v1+cell": {
     "cellMetadata": {
      "byteLimit": 2048000,
      "rowLimit": 10000
     },
     "inputWidgets": {},
     "nuid": "70189ea7-0e9e-4044-a007-bd73bd4282d5",
     "showTitle": false,
     "title": ""
    }
   },
   "outputs": [],
   "source": [
    "kmeans = KMeans(k = 3, seed = 42)\n",
    "input_features = feature_vector.select('features')\n",
    "model_1 = kmeans.fit(input_features)"
   ]
  },
  {
   "cell_type": "code",
   "execution_count": 0,
   "metadata": {
    "application/vnd.databricks.v1+cell": {
     "cellMetadata": {
      "byteLimit": 2048000,
      "rowLimit": 10000
     },
     "inputWidgets": {},
     "nuid": "e8f895cf-1193-43cd-82b0-bd3855e60798",
     "showTitle": false,
     "title": ""
    }
   },
   "outputs": [
    {
     "output_type": "stream",
     "name": "stdout",
     "output_type": "stream",
     "text": [
      "+------------+------------+------------+-------------+--------------------+----------+\n|Street Code1|Street Code2|Street Code3|Vehicle Color|            features|prediction|\n+------------+------------+------------+-------------+--------------------+----------+\n|           0|           0|           0|         BLUE|           (3,[],[])|         1|\n|       17870|       25390|       32670|         GRAY|[17870.0,25390.0,...|         0|\n|       17870|       25390|       32670|         GRAY|[17870.0,25390.0,...|         0|\n|       12690|       41700|       61090|        WHITE|[12690.0,41700.0,...|         2|\n|       12690|       41700|       61090|        WHITE|[12690.0,41700.0,...|         2|\n|           0|           0|           0|           BK|           (3,[],[])|         1|\n|        8690|       21690|       21740|           na|[8690.0,21690.0,2...|         0|\n|           0|       61090|           0|          GRY|   [0.0,61090.0,0.0]|         0|\n|           0|           0|           0|          WHT|           (3,[],[])|         1|\n|           0|       40404|       40404|         BLUE|[0.0,40404.0,4040...|         0|\n|       59590|        9440|           0|         GREY|[59590.0,9440.0,0.0]|         0|\n|       37890|       51290|       51895|        WHITE|[37890.0,51290.0,...|         2|\n|       24090|       10290|       52490|          BLK|[24090.0,10290.0,...|         0|\n|       23840|       57790|       42120|          RED|[23840.0,57790.0,...|         2|\n|       28940|        9690|       57790|         GOLD|[28940.0,9690.0,5...|         0|\n|       21790|        5940|           0|         BLUE|[21790.0,5940.0,0.0]|         1|\n|       36400|       24240|       46090|           na|[36400.0,24240.0,...|         0|\n|        8440|       65490|       58590|          BLK|[8440.0,65490.0,5...|         2|\n|        6190|       23090|       23190|           WH|[6190.0,23090.0,2...|         0|\n|        8590|       53390|       65490|           RD|[8590.0,53390.0,6...|         2|\n+------------+------------+------------+-------------+--------------------+----------+\nonly showing top 20 rows\n\n"
     ]
    }
   ],
   "source": [
    "feature_data = model_1.transform(feature_vector)\n",
    "feature_data.show()"
   ]
  },
  {
   "cell_type": "code",
   "execution_count": 0,
   "metadata": {
    "application/vnd.databricks.v1+cell": {
     "cellMetadata": {
      "byteLimit": 2048000,
      "rowLimit": 10000
     },
     "inputWidgets": {},
     "nuid": "e731161a-166d-4933-92ad-5a4693023bff",
     "showTitle": false,
     "title": ""
    }
   },
   "outputs": [
    {
     "output_type": "stream",
     "name": "stdout",
     "output_type": "stream",
     "text": [
      "BLEU\nBLLC\nBKGL\nBLTN\nBUR\nBLK\nBRWN\nBRRD\nBIEGE\nBKBR\nBW\nBRBL\nBRN\nBLACK\nBL/GY\nBK/GY\nBK/BL\nBURGU\nBUS\nBLAAC\nBURGD\nBKWH\nBLGY0\nBU\nBKBK\nBRONZ\nBKTN\nBLB\nBL/\nBRBK\nBED\nBEIGE\nBLPR\nBLUE,\nBRZ\nB\nBKW\nBN\nBLAK\nBeige\nBLBL\nBLUW\nBROWM\nBK/GR\nBKJ\nBIK\nBL\nBLAC\nBKPR\nBLR\nBLE\nBKGY\nBLOR\nBR\nBURG\nBERGE\nBRGR\nBLBK\nB LK\nBURGE\nBK+\nBROW\nBK/\nBKL\nBKRD\nBWN\nBURY\nBKL.[\nBRO\nBROWN\nBRON\nBKYW\nBIG\nBK\nBLU\nBKBL\nBBLCK\nBLCK\nBK,\nBKG\nBKE\nBRW\nBIM\nBLAE\nBLWH\nBLRD\nBlue,\nBLYW\nBlue\nBG\nBGE\nBCK\nBLUE\nBRTN\nBKOR\nBZ\nBLG\nBrown\nBKGR\nBLMR\nBLGR\nBKC\nBLC\nBLGL\nBRUG\nBlack\nBK.\nBLKD\nBWH\nBURGA\nBE\nBIR\nBLV\nBLEVO\nBLBR\nBLGY\nBK3\nBROUW\nBLA\nBRGY\nBK/TN\nBKMR\nBJK\nBWC\nBLK/U\nBUY\nBLW\nBC\nBLK/G\nBKTAN\nBLUEG\nBKLKK\nBLT\nBLUGY\nBUG\nBL K\nBEIG\nBKH\nBD\nBEI\nBY\nBLLUE\nBH\nBronz\nBRY\nBK1\nBLI\nBLIC\nBLF\nBAIGE\nBLK/C\nBL/WH\nBLKL\nBIL\nBEA\nBK333\nBRG\nBO\nBL/BK\nB LAC\nBIGG\nBLY\nBRWH\nBKT\nBK000\nBKI\nBUGUR\nBRT\nBRGL\nBLYE\nBRK\nBK]\nBL/GR\nBURGN\nBWE\nB L\nBR/GY\nBK/RD\nBL2G4\nBLP\nBK```\nBKNO\nBLJK\nBLUE/\nBRU\nBRU76\nBKX\nBKGRA\nBK0-'\nBB\nBKD\nBURUN\nBLYL\nBK/WH\nBMW\nBOW\nBERG\nBRIGE\nBBLK\nBLU/W\nBUE\nBLAKR\nBAL\nBLURD\nBLN\nBA\nBLKRE\nBUL\nBREY\nBLVGK\nBGE/G\nBOLD\nBIE\nBGD\nBGY\nBURGH\nBUN\nBRD\nBK/GL\nBLSIL\nBLKE\nBLKOT\nBV\nB ACL\nBUC\nBLO\nBGDY\nBKWT\nBK SE\nBRE\nBALK\nBKZ\nBX\nBIACK\nBRIDG\nBLKGR\nBRAY\nBILO\nBRGN\nBL  H\n"
     ]
    }
   ],
   "source": [
    "\n",
    "# Lets select the distinct colors which starts with letter B\n",
    "colors_starting_with_B = df_5.select('Vehicle Color').distinct().filter(col('Vehicle Color').startswith('B')).collect()\n",
    "\n",
    "for color in colors_starting_with_B:\n",
    "    print(color['Vehicle Color'])"
   ]
  },
  {
   "cell_type": "markdown",
   "metadata": {
    "application/vnd.databricks.v1+cell": {
     "cellMetadata": {
      "byteLimit": 2048000,
      "rowLimit": 10000
     },
     "inputWidgets": {},
     "nuid": "c6fcb8e2-b64f-4655-af80-37a1a308eff2",
     "showTitle": false,
     "title": ""
    }
   },
   "source": [
    "There are so many colors, and there is no common standard for color, so I am going to choose top 10, ways to write black from what I could pick up from my eyes, and filter them out."
   ]
  },
  {
   "cell_type": "code",
   "execution_count": 0,
   "metadata": {
    "application/vnd.databricks.v1+cell": {
     "cellMetadata": {
      "byteLimit": 2048000,
      "rowLimit": 10000
     },
     "inputWidgets": {},
     "nuid": "ef2ca118-e60e-4d13-9def-fc744e2115cf",
     "showTitle": false,
     "title": ""
    }
   },
   "outputs": [
    {
     "output_type": "stream",
     "name": "stdout",
     "output_type": "stream",
     "text": [
      "Out[22]: 37"
     ]
    }
   ],
   "source": [
    "black_codes = [\n",
    "    \"BLK\",\n",
    "    \"BLACK\",\n",
    "    \"BLAC\",\n",
    "    \"BLCK\",\n",
    "    \"B LK\",\n",
    "    \"BLK.\",\n",
    "    \"BK\",\n",
    "    \"BK.\",\n",
    "    \"BKG\",\n",
    "    \"BKBL\",\n",
    "    \"BKGY\",\n",
    "    \"BKGR\",\n",
    "    \"BKL\",\n",
    "    \"BKRD\",\n",
    "    \"BKWH\",\n",
    "    \"BKBK\",\n",
    "    \"BKLKK\",\n",
    "    \"BK333\", # Unsure whether it is black or not\n",
    "    \"BK000\", # Unsure whether it is black or not\n",
    "    \"BK/TN\", # Unsure whether it is black or not\n",
    "    \"BK/RD\", # Unsure whether it is black or not\n",
    "    \"BK/GR\", # Unsure whether it is black or not\n",
    "    \"BK/WH\",\n",
    "    \"BKGL\", # Unsure whether it is black or not\n",
    "    \"BKGRA\", # Unsure whether it is black or not\n",
    "    \"BLK/U\", # Unsure whether it is black or not\n",
    "    \"BLKOT\", # Unsure whether it is black or not\n",
    "    \"BLC\",\n",
    "    \"B LAC\", # Unsure whether it is black or not\n",
    "    \"BLKG\",\n",
    "    \"BLKRE\",\n",
    "    \"BLKGR\", # Unsure whether it is black or not\n",
    "    \"BLKR\", # Unsure whether it is black or not\n",
    "    \"BLKA\",\n",
    "    \"BLKD\",\n",
    "    \"BBLACK\", # Unsure whether it is black or not\n",
    "    \"BLKDK\",\n",
    "]\n",
    "len(black_codes)"
   ]
  },
  {
   "cell_type": "code",
   "execution_count": 0,
   "metadata": {
    "application/vnd.databricks.v1+cell": {
     "cellMetadata": {
      "byteLimit": 2048000,
      "rowLimit": 10000
     },
     "inputWidgets": {},
     "nuid": "9b0852c9-51f4-4289-94ec-f51fb7d7adf7",
     "showTitle": false,
     "title": ""
    }
   },
   "outputs": [],
   "source": [
    "black_codes = ['BLACK.', 'Black', 'BC', 'BLAC', 'BK/', 'BLK', 'BK.', 'BCK', 'BK', 'B LAC']\n"
   ]
  },
  {
   "cell_type": "code",
   "execution_count": 0,
   "metadata": {
    "application/vnd.databricks.v1+cell": {
     "cellMetadata": {
      "byteLimit": 2048000,
      "rowLimit": 10000
     },
     "inputWidgets": {},
     "nuid": "bf13aaa8-87ef-467d-98b6-722abb2abe6f",
     "showTitle": false,
     "title": ""
    }
   },
   "outputs": [
    {
     "output_type": "stream",
     "name": "stdout",
     "output_type": "stream",
     "text": [
      "+----------+-----------+---------+\n|prediction|color count|car count|\n+----------+-----------+---------+\n|         0|     527609|  3553397|\n|         1|    1150965|  5860974|\n|         2|     234037|  1303111|\n+----------+-----------+---------+\n\n"
     ]
    }
   ],
   "source": [
    "total_vehicle_count_df = feature_data.groupBy('prediction').agg(\n",
    "    count(when(col('Vehicle Color').isin(black_codes), 1)).alias('color count'),\n",
    "    count('Vehicle Color').alias('car count')\n",
    ").orderBy('prediction')\n",
    "\n",
    "total_vehicle_count_df.show()"
   ]
  },
  {
   "cell_type": "code",
   "execution_count": 0,
   "metadata": {
    "application/vnd.databricks.v1+cell": {
     "cellMetadata": {
      "byteLimit": 2048000,
      "rowLimit": 10000
     },
     "inputWidgets": {},
     "nuid": "4e9fa449-7a57-4421-a67c-bdf9dc533997",
     "showTitle": false,
     "title": ""
    }
   },
   "outputs": [
    {
     "output_type": "stream",
     "name": "stdout",
     "output_type": "stream",
     "text": [
      "+----------+-----------------------------------+--------------------------------+\n|prediction|Number of black cars in the cluster|Total number of cars for cluster|\n+----------+-----------------------------------+--------------------------------+\n|         0|                             527609|                         3553397|\n|         1|                            1150965|                         5860974|\n|         2|                             234037|                         1303111|\n+----------+-----------------------------------+--------------------------------+\n\n"
     ]
    }
   ],
   "source": [
    "# now lets count for each cluster how many black vehicles vs total count of vehicle\n",
    "black_cars_df = feature_data.groupBy('prediction').\\\n",
    "    agg(\n",
    "        count(when(col('Vehicle Color').isin(black_codes), 1)).alias(\"Number of black cars in the cluster\"),\n",
    "        count('Vehicle Color').alias(\"Total number of cars for cluster\")\n",
    "    ).orderBy(\"prediction\")\n",
    "black_cars_df.show()"
   ]
  },
  {
   "cell_type": "code",
   "execution_count": 0,
   "metadata": {
    "application/vnd.databricks.v1+cell": {
     "cellMetadata": {
      "byteLimit": 2048000,
      "rowLimit": 10000
     },
     "inputWidgets": {},
     "nuid": "be5c2b74-195e-48f3-ac3f-8efa4a49d7f1",
     "showTitle": false,
     "title": ""
    }
   },
   "outputs": [
    {
     "output_type": "stream",
     "name": "stdout",
     "output_type": "stream",
     "text": [
      "+----------+-----------------------------------+--------------------------------+-------------------+\n|prediction|Number of black cars in the cluster|Total number of cars for cluster|        probability|\n+----------+-----------------------------------+--------------------------------+-------------------+\n|         0|                             527609|                         3553397| 0.1484801726348055|\n|         1|                            1150965|                         5860974|0.19637776929227121|\n|         2|                             234037|                         1303111| 0.1795986681103912|\n+----------+-----------------------------------+--------------------------------+-------------------+\n\n"
     ]
    }
   ],
   "source": [
    "black_cars_probability_df = black_cars_df.select(\n",
    "    'prediction',\n",
    "    'Number of black cars in the cluster',\n",
    "    'Total number of cars for cluster',\n",
    "    (col('Number of black cars in the cluster') / col('Total number of cars for cluster')).alias('probability')\n",
    ")\n",
    "black_cars_probability_df.show()"
   ]
  },
  {
   "cell_type": "code",
   "execution_count": 0,
   "metadata": {
    "application/vnd.databricks.v1+cell": {
     "cellMetadata": {
      "byteLimit": 2048000,
      "rowLimit": 10000
     },
     "inputWidgets": {},
     "nuid": "184bdafb-e7ed-47e0-a7bd-c4249538445e",
     "showTitle": false,
     "title": ""
    }
   },
   "outputs": [],
   "source": [
    "# Find the closest centroid\n",
    "models_centroid = np.array(model_1.clusterCenters()).astype(float)\n"
   ]
  },
  {
   "cell_type": "code",
   "execution_count": 0,
   "metadata": {
    "application/vnd.databricks.v1+cell": {
     "cellMetadata": {
      "byteLimit": 2048000,
      "rowLimit": 10000
     },
     "inputWidgets": {},
     "nuid": "ce277b09-8b58-4655-91e2-65a3aaa6f265",
     "showTitle": false,
     "title": ""
    }
   },
   "outputs": [
    {
     "output_type": "stream",
     "name": "stdout",
     "output_type": "stream",
     "text": [
      "Out[28]: array([[27659.42526624, 22371.66533852, 22545.54207256],\n       [ 2399.26895822,   913.02541069,   526.0035948 ],\n       [51708.44588333, 52750.83556485, 52813.87202021]])"
     ]
    }
   ],
   "source": [
    "models_centroid"
   ]
  },
  {
   "cell_type": "code",
   "execution_count": 0,
   "metadata": {
    "application/vnd.databricks.v1+cell": {
     "cellMetadata": {
      "byteLimit": 2048000,
      "rowLimit": 10000
     },
     "inputWidgets": {},
     "nuid": "6763cc45-826c-41eb-81f8-6a0db9745393",
     "showTitle": false,
     "title": ""
    }
   },
   "outputs": [
    {
     "output_type": "stream",
     "name": "stdout",
     "output_type": "stream",
     "text": [
      "Closet Centroid for given data: 0\n"
     ]
    }
   ],
   "source": [
    "target_codes = [34510.0, 10030.0, 34050.0]\n",
    "start_index = -1\n",
    "distance = np.inf\n",
    "\n",
    "for index, clusters_center in enumerate(models_centroid):\n",
    "    euclidian_distance = np.sum(np.square(np.subtract(target_codes, clusters_center)))\n",
    "    if euclidian_distance < distance:\n",
    "        distance = euclidian_distance\n",
    "        ans = index\n",
    "\n",
    "\n",
    "print(f\"Closet Centroid for given data: {ans}\")\n"
   ]
  },
  {
   "cell_type": "markdown",
   "metadata": {
    "application/vnd.databricks.v1+cell": {
     "cellMetadata": {
      "byteLimit": 2048000,
      "rowLimit": 10000
     },
     "inputWidgets": {},
     "nuid": "5140ebc8-4feb-414a-b7fa-ab75f2635d39",
     "showTitle": false,
     "title": ""
    }
   },
   "source": [
    "# Question 6: For each pair of the players (A, B), we define the fear score of A when facing B is the hit rate, such that B is closet defender when A is shooting. Based on the fear score, for each player, please find out who is his ”most unwanted defender”. "
   ]
  },
  {
   "cell_type": "code",
   "execution_count": 0,
   "metadata": {
    "application/vnd.databricks.v1+cell": {
     "cellMetadata": {
      "byteLimit": 2048000,
      "rowLimit": 10000
     },
     "inputWidgets": {},
     "nuid": "667b961d-88ea-4766-b2c1-6eb70cc01d51",
     "showTitle": false,
     "title": ""
    }
   },
   "outputs": [],
   "source": [
    "spark = SparkSession.builder.appName(\"NBA_data\").getOrCreate()\n",
    "\n",
    "nba_data = spark.read.csv(\"/FileStore/tables/shot_logs-1.csv\", inferSchema = True, header = True)\n"
   ]
  },
  {
   "cell_type": "code",
   "execution_count": 0,
   "metadata": {
    "application/vnd.databricks.v1+cell": {
     "cellMetadata": {
      "byteLimit": 2048000,
      "rowLimit": 10000
     },
     "inputWidgets": {},
     "nuid": "4f60fce8-00d8-4379-b920-ae63cd36033a",
     "showTitle": false,
     "title": ""
    }
   },
   "outputs": [
    {
     "output_type": "display_data",
     "data": {
      "text/html": [
       "<div>\n",
       "<style scoped>\n",
       "    .dataframe tbody tr th:only-of-type {\n",
       "        vertical-align: middle;\n",
       "    }\n",
       "\n",
       "    .dataframe tbody tr th {\n",
       "        vertical-align: top;\n",
       "    }\n",
       "\n",
       "    .dataframe thead th {\n",
       "        text-align: right;\n",
       "    }\n",
       "</style>\n",
       "<table border=\"1\" class=\"dataframe\">\n",
       "  <thead>\n",
       "    <tr style=\"text-align: right;\">\n",
       "      <th></th>\n",
       "      <th>GAME_ID</th>\n",
       "      <th>MATCHUP</th>\n",
       "      <th>LOCATION</th>\n",
       "      <th>W</th>\n",
       "      <th>FINAL_MARGIN</th>\n",
       "      <th>SHOT_NUMBER</th>\n",
       "      <th>PERIOD</th>\n",
       "      <th>GAME_CLOCK</th>\n",
       "      <th>SHOT_CLOCK</th>\n",
       "      <th>DRIBBLES</th>\n",
       "      <th>...</th>\n",
       "      <th>SHOT_DIST</th>\n",
       "      <th>PTS_TYPE</th>\n",
       "      <th>SHOT_RESULT</th>\n",
       "      <th>CLOSEST_DEFENDER</th>\n",
       "      <th>CLOSEST_DEFENDER_PLAYER_ID</th>\n",
       "      <th>CLOSE_DEF_DIST</th>\n",
       "      <th>FGM</th>\n",
       "      <th>PTS</th>\n",
       "      <th>player_name</th>\n",
       "      <th>player_id</th>\n",
       "    </tr>\n",
       "  </thead>\n",
       "  <tbody>\n",
       "    <tr>\n",
       "      <th>0</th>\n",
       "      <td>21400899</td>\n",
       "      <td>MAR 04, 2015 - CHA @ BKN</td>\n",
       "      <td>A</td>\n",
       "      <td>W</td>\n",
       "      <td>24</td>\n",
       "      <td>1</td>\n",
       "      <td>1</td>\n",
       "      <td>2024-04-12 01:09:00</td>\n",
       "      <td>10.8</td>\n",
       "      <td>2</td>\n",
       "      <td>...</td>\n",
       "      <td>7.7</td>\n",
       "      <td>2</td>\n",
       "      <td>made</td>\n",
       "      <td>Anderson, Alan</td>\n",
       "      <td>101187</td>\n",
       "      <td>1.3</td>\n",
       "      <td>1</td>\n",
       "      <td>2</td>\n",
       "      <td>brian roberts</td>\n",
       "      <td>203148</td>\n",
       "    </tr>\n",
       "    <tr>\n",
       "      <th>1</th>\n",
       "      <td>21400899</td>\n",
       "      <td>MAR 04, 2015 - CHA @ BKN</td>\n",
       "      <td>A</td>\n",
       "      <td>W</td>\n",
       "      <td>24</td>\n",
       "      <td>2</td>\n",
       "      <td>1</td>\n",
       "      <td>2024-04-12 00:14:00</td>\n",
       "      <td>3.4</td>\n",
       "      <td>0</td>\n",
       "      <td>...</td>\n",
       "      <td>28.2</td>\n",
       "      <td>3</td>\n",
       "      <td>missed</td>\n",
       "      <td>Bogdanovic, Bojan</td>\n",
       "      <td>202711</td>\n",
       "      <td>6.1</td>\n",
       "      <td>0</td>\n",
       "      <td>0</td>\n",
       "      <td>brian roberts</td>\n",
       "      <td>203148</td>\n",
       "    </tr>\n",
       "    <tr>\n",
       "      <th>2</th>\n",
       "      <td>21400899</td>\n",
       "      <td>MAR 04, 2015 - CHA @ BKN</td>\n",
       "      <td>A</td>\n",
       "      <td>W</td>\n",
       "      <td>24</td>\n",
       "      <td>3</td>\n",
       "      <td>1</td>\n",
       "      <td>2024-04-12 00:00:00</td>\n",
       "      <td>NaN</td>\n",
       "      <td>3</td>\n",
       "      <td>...</td>\n",
       "      <td>10.1</td>\n",
       "      <td>2</td>\n",
       "      <td>missed</td>\n",
       "      <td>Bogdanovic, Bojan</td>\n",
       "      <td>202711</td>\n",
       "      <td>0.9</td>\n",
       "      <td>0</td>\n",
       "      <td>0</td>\n",
       "      <td>brian roberts</td>\n",
       "      <td>203148</td>\n",
       "    </tr>\n",
       "    <tr>\n",
       "      <th>3</th>\n",
       "      <td>21400899</td>\n",
       "      <td>MAR 04, 2015 - CHA @ BKN</td>\n",
       "      <td>A</td>\n",
       "      <td>W</td>\n",
       "      <td>24</td>\n",
       "      <td>4</td>\n",
       "      <td>2</td>\n",
       "      <td>2024-04-12 11:47:00</td>\n",
       "      <td>10.3</td>\n",
       "      <td>2</td>\n",
       "      <td>...</td>\n",
       "      <td>17.2</td>\n",
       "      <td>2</td>\n",
       "      <td>missed</td>\n",
       "      <td>Brown, Markel</td>\n",
       "      <td>203900</td>\n",
       "      <td>3.4</td>\n",
       "      <td>0</td>\n",
       "      <td>0</td>\n",
       "      <td>brian roberts</td>\n",
       "      <td>203148</td>\n",
       "    </tr>\n",
       "    <tr>\n",
       "      <th>4</th>\n",
       "      <td>21400899</td>\n",
       "      <td>MAR 04, 2015 - CHA @ BKN</td>\n",
       "      <td>A</td>\n",
       "      <td>W</td>\n",
       "      <td>24</td>\n",
       "      <td>5</td>\n",
       "      <td>2</td>\n",
       "      <td>2024-04-12 10:34:00</td>\n",
       "      <td>10.9</td>\n",
       "      <td>2</td>\n",
       "      <td>...</td>\n",
       "      <td>3.7</td>\n",
       "      <td>2</td>\n",
       "      <td>missed</td>\n",
       "      <td>Young, Thaddeus</td>\n",
       "      <td>201152</td>\n",
       "      <td>1.1</td>\n",
       "      <td>0</td>\n",
       "      <td>0</td>\n",
       "      <td>brian roberts</td>\n",
       "      <td>203148</td>\n",
       "    </tr>\n",
       "    <tr>\n",
       "      <th>5</th>\n",
       "      <td>21400899</td>\n",
       "      <td>MAR 04, 2015 - CHA @ BKN</td>\n",
       "      <td>A</td>\n",
       "      <td>W</td>\n",
       "      <td>24</td>\n",
       "      <td>6</td>\n",
       "      <td>2</td>\n",
       "      <td>2024-04-12 08:15:00</td>\n",
       "      <td>9.1</td>\n",
       "      <td>2</td>\n",
       "      <td>...</td>\n",
       "      <td>18.4</td>\n",
       "      <td>2</td>\n",
       "      <td>missed</td>\n",
       "      <td>Williams, Deron</td>\n",
       "      <td>101114</td>\n",
       "      <td>2.6</td>\n",
       "      <td>0</td>\n",
       "      <td>0</td>\n",
       "      <td>brian roberts</td>\n",
       "      <td>203148</td>\n",
       "    </tr>\n",
       "    <tr>\n",
       "      <th>6</th>\n",
       "      <td>21400899</td>\n",
       "      <td>MAR 04, 2015 - CHA @ BKN</td>\n",
       "      <td>A</td>\n",
       "      <td>W</td>\n",
       "      <td>24</td>\n",
       "      <td>7</td>\n",
       "      <td>4</td>\n",
       "      <td>2024-04-12 10:15:00</td>\n",
       "      <td>14.5</td>\n",
       "      <td>11</td>\n",
       "      <td>...</td>\n",
       "      <td>20.7</td>\n",
       "      <td>2</td>\n",
       "      <td>missed</td>\n",
       "      <td>Jack, Jarrett</td>\n",
       "      <td>101127</td>\n",
       "      <td>6.1</td>\n",
       "      <td>0</td>\n",
       "      <td>0</td>\n",
       "      <td>brian roberts</td>\n",
       "      <td>203148</td>\n",
       "    </tr>\n",
       "    <tr>\n",
       "      <th>7</th>\n",
       "      <td>21400899</td>\n",
       "      <td>MAR 04, 2015 - CHA @ BKN</td>\n",
       "      <td>A</td>\n",
       "      <td>W</td>\n",
       "      <td>24</td>\n",
       "      <td>8</td>\n",
       "      <td>4</td>\n",
       "      <td>2024-04-12 08:00:00</td>\n",
       "      <td>3.4</td>\n",
       "      <td>3</td>\n",
       "      <td>...</td>\n",
       "      <td>3.5</td>\n",
       "      <td>2</td>\n",
       "      <td>made</td>\n",
       "      <td>Plumlee, Mason</td>\n",
       "      <td>203486</td>\n",
       "      <td>2.1</td>\n",
       "      <td>1</td>\n",
       "      <td>2</td>\n",
       "      <td>brian roberts</td>\n",
       "      <td>203148</td>\n",
       "    </tr>\n",
       "    <tr>\n",
       "      <th>8</th>\n",
       "      <td>21400899</td>\n",
       "      <td>MAR 04, 2015 - CHA @ BKN</td>\n",
       "      <td>A</td>\n",
       "      <td>W</td>\n",
       "      <td>24</td>\n",
       "      <td>9</td>\n",
       "      <td>4</td>\n",
       "      <td>2024-04-12 05:14:00</td>\n",
       "      <td>12.4</td>\n",
       "      <td>0</td>\n",
       "      <td>...</td>\n",
       "      <td>24.6</td>\n",
       "      <td>3</td>\n",
       "      <td>missed</td>\n",
       "      <td>Morris, Darius</td>\n",
       "      <td>202721</td>\n",
       "      <td>7.3</td>\n",
       "      <td>0</td>\n",
       "      <td>0</td>\n",
       "      <td>brian roberts</td>\n",
       "      <td>203148</td>\n",
       "    </tr>\n",
       "    <tr>\n",
       "      <th>9</th>\n",
       "      <td>21400890</td>\n",
       "      <td>MAR 03, 2015 - CHA vs. LAL</td>\n",
       "      <td>H</td>\n",
       "      <td>W</td>\n",
       "      <td>1</td>\n",
       "      <td>1</td>\n",
       "      <td>2</td>\n",
       "      <td>2024-04-12 11:32:00</td>\n",
       "      <td>17.4</td>\n",
       "      <td>0</td>\n",
       "      <td>...</td>\n",
       "      <td>22.4</td>\n",
       "      <td>3</td>\n",
       "      <td>missed</td>\n",
       "      <td>Ellington, Wayne</td>\n",
       "      <td>201961</td>\n",
       "      <td>19.8</td>\n",
       "      <td>0</td>\n",
       "      <td>0</td>\n",
       "      <td>brian roberts</td>\n",
       "      <td>203148</td>\n",
       "    </tr>\n",
       "  </tbody>\n",
       "</table>\n",
       "<p>10 rows × 21 columns</p>\n",
       "</div>"
      ]
     },
     "metadata": {
      "application/vnd.databricks.v1+output": {
       "addedWidgets": {},
       "arguments": {},
       "data": "<div>\n<style scoped>\n    .dataframe tbody tr th:only-of-type {\n        vertical-align: middle;\n    }\n\n    .dataframe tbody tr th {\n        vertical-align: top;\n    }\n\n    .dataframe thead th {\n        text-align: right;\n    }\n</style>\n<table border=\"1\" class=\"dataframe\">\n  <thead>\n    <tr style=\"text-align: right;\">\n      <th></th>\n      <th>GAME_ID</th>\n      <th>MATCHUP</th>\n      <th>LOCATION</th>\n      <th>W</th>\n      <th>FINAL_MARGIN</th>\n      <th>SHOT_NUMBER</th>\n      <th>PERIOD</th>\n      <th>GAME_CLOCK</th>\n      <th>SHOT_CLOCK</th>\n      <th>DRIBBLES</th>\n      <th>...</th>\n      <th>SHOT_DIST</th>\n      <th>PTS_TYPE</th>\n      <th>SHOT_RESULT</th>\n      <th>CLOSEST_DEFENDER</th>\n      <th>CLOSEST_DEFENDER_PLAYER_ID</th>\n      <th>CLOSE_DEF_DIST</th>\n      <th>FGM</th>\n      <th>PTS</th>\n      <th>player_name</th>\n      <th>player_id</th>\n    </tr>\n  </thead>\n  <tbody>\n    <tr>\n      <th>0</th>\n      <td>21400899</td>\n      <td>MAR 04, 2015 - CHA @ BKN</td>\n      <td>A</td>\n      <td>W</td>\n      <td>24</td>\n      <td>1</td>\n      <td>1</td>\n      <td>2024-04-12 01:09:00</td>\n      <td>10.8</td>\n      <td>2</td>\n      <td>...</td>\n      <td>7.7</td>\n      <td>2</td>\n      <td>made</td>\n      <td>Anderson, Alan</td>\n      <td>101187</td>\n      <td>1.3</td>\n      <td>1</td>\n      <td>2</td>\n      <td>brian roberts</td>\n      <td>203148</td>\n    </tr>\n    <tr>\n      <th>1</th>\n      <td>21400899</td>\n      <td>MAR 04, 2015 - CHA @ BKN</td>\n      <td>A</td>\n      <td>W</td>\n      <td>24</td>\n      <td>2</td>\n      <td>1</td>\n      <td>2024-04-12 00:14:00</td>\n      <td>3.4</td>\n      <td>0</td>\n      <td>...</td>\n      <td>28.2</td>\n      <td>3</td>\n      <td>missed</td>\n      <td>Bogdanovic, Bojan</td>\n      <td>202711</td>\n      <td>6.1</td>\n      <td>0</td>\n      <td>0</td>\n      <td>brian roberts</td>\n      <td>203148</td>\n    </tr>\n    <tr>\n      <th>2</th>\n      <td>21400899</td>\n      <td>MAR 04, 2015 - CHA @ BKN</td>\n      <td>A</td>\n      <td>W</td>\n      <td>24</td>\n      <td>3</td>\n      <td>1</td>\n      <td>2024-04-12 00:00:00</td>\n      <td>NaN</td>\n      <td>3</td>\n      <td>...</td>\n      <td>10.1</td>\n      <td>2</td>\n      <td>missed</td>\n      <td>Bogdanovic, Bojan</td>\n      <td>202711</td>\n      <td>0.9</td>\n      <td>0</td>\n      <td>0</td>\n      <td>brian roberts</td>\n      <td>203148</td>\n    </tr>\n    <tr>\n      <th>3</th>\n      <td>21400899</td>\n      <td>MAR 04, 2015 - CHA @ BKN</td>\n      <td>A</td>\n      <td>W</td>\n      <td>24</td>\n      <td>4</td>\n      <td>2</td>\n      <td>2024-04-12 11:47:00</td>\n      <td>10.3</td>\n      <td>2</td>\n      <td>...</td>\n      <td>17.2</td>\n      <td>2</td>\n      <td>missed</td>\n      <td>Brown, Markel</td>\n      <td>203900</td>\n      <td>3.4</td>\n      <td>0</td>\n      <td>0</td>\n      <td>brian roberts</td>\n      <td>203148</td>\n    </tr>\n    <tr>\n      <th>4</th>\n      <td>21400899</td>\n      <td>MAR 04, 2015 - CHA @ BKN</td>\n      <td>A</td>\n      <td>W</td>\n      <td>24</td>\n      <td>5</td>\n      <td>2</td>\n      <td>2024-04-12 10:34:00</td>\n      <td>10.9</td>\n      <td>2</td>\n      <td>...</td>\n      <td>3.7</td>\n      <td>2</td>\n      <td>missed</td>\n      <td>Young, Thaddeus</td>\n      <td>201152</td>\n      <td>1.1</td>\n      <td>0</td>\n      <td>0</td>\n      <td>brian roberts</td>\n      <td>203148</td>\n    </tr>\n    <tr>\n      <th>5</th>\n      <td>21400899</td>\n      <td>MAR 04, 2015 - CHA @ BKN</td>\n      <td>A</td>\n      <td>W</td>\n      <td>24</td>\n      <td>6</td>\n      <td>2</td>\n      <td>2024-04-12 08:15:00</td>\n      <td>9.1</td>\n      <td>2</td>\n      <td>...</td>\n      <td>18.4</td>\n      <td>2</td>\n      <td>missed</td>\n      <td>Williams, Deron</td>\n      <td>101114</td>\n      <td>2.6</td>\n      <td>0</td>\n      <td>0</td>\n      <td>brian roberts</td>\n      <td>203148</td>\n    </tr>\n    <tr>\n      <th>6</th>\n      <td>21400899</td>\n      <td>MAR 04, 2015 - CHA @ BKN</td>\n      <td>A</td>\n      <td>W</td>\n      <td>24</td>\n      <td>7</td>\n      <td>4</td>\n      <td>2024-04-12 10:15:00</td>\n      <td>14.5</td>\n      <td>11</td>\n      <td>...</td>\n      <td>20.7</td>\n      <td>2</td>\n      <td>missed</td>\n      <td>Jack, Jarrett</td>\n      <td>101127</td>\n      <td>6.1</td>\n      <td>0</td>\n      <td>0</td>\n      <td>brian roberts</td>\n      <td>203148</td>\n    </tr>\n    <tr>\n      <th>7</th>\n      <td>21400899</td>\n      <td>MAR 04, 2015 - CHA @ BKN</td>\n      <td>A</td>\n      <td>W</td>\n      <td>24</td>\n      <td>8</td>\n      <td>4</td>\n      <td>2024-04-12 08:00:00</td>\n      <td>3.4</td>\n      <td>3</td>\n      <td>...</td>\n      <td>3.5</td>\n      <td>2</td>\n      <td>made</td>\n      <td>Plumlee, Mason</td>\n      <td>203486</td>\n      <td>2.1</td>\n      <td>1</td>\n      <td>2</td>\n      <td>brian roberts</td>\n      <td>203148</td>\n    </tr>\n    <tr>\n      <th>8</th>\n      <td>21400899</td>\n      <td>MAR 04, 2015 - CHA @ BKN</td>\n      <td>A</td>\n      <td>W</td>\n      <td>24</td>\n      <td>9</td>\n      <td>4</td>\n      <td>2024-04-12 05:14:00</td>\n      <td>12.4</td>\n      <td>0</td>\n      <td>...</td>\n      <td>24.6</td>\n      <td>3</td>\n      <td>missed</td>\n      <td>Morris, Darius</td>\n      <td>202721</td>\n      <td>7.3</td>\n      <td>0</td>\n      <td>0</td>\n      <td>brian roberts</td>\n      <td>203148</td>\n    </tr>\n    <tr>\n      <th>9</th>\n      <td>21400890</td>\n      <td>MAR 03, 2015 - CHA vs. LAL</td>\n      <td>H</td>\n      <td>W</td>\n      <td>1</td>\n      <td>1</td>\n      <td>2</td>\n      <td>2024-04-12 11:32:00</td>\n      <td>17.4</td>\n      <td>0</td>\n      <td>...</td>\n      <td>22.4</td>\n      <td>3</td>\n      <td>missed</td>\n      <td>Ellington, Wayne</td>\n      <td>201961</td>\n      <td>19.8</td>\n      <td>0</td>\n      <td>0</td>\n      <td>brian roberts</td>\n      <td>203148</td>\n    </tr>\n  </tbody>\n</table>\n<p>10 rows × 21 columns</p>\n</div>",
       "datasetInfos": [],
       "metadata": {},
       "removedWidgets": [],
       "textData": null,
       "type": "htmlSandbox"
      }
     },
     "output_type": "display_data"
    }
   ],
   "source": [
    "nba_pd = nba_data.limit(10).toPandas()\n",
    "nba_pd"
   ]
  },
  {
   "cell_type": "code",
   "execution_count": 0,
   "metadata": {
    "application/vnd.databricks.v1+cell": {
     "cellMetadata": {
      "byteLimit": 2048000,
      "rowLimit": 10000
     },
     "inputWidgets": {},
     "nuid": "a35e721c-e902-4640-b3ad-c4c7d4a865c9",
     "showTitle": false,
     "title": ""
    }
   },
   "outputs": [
    {
     "output_type": "stream",
     "name": "stdout",
     "output_type": "stream",
     "text": [
      "root\n |-- GAME_ID: integer (nullable = true)\n |-- MATCHUP: string (nullable = true)\n |-- LOCATION: string (nullable = true)\n |-- W: string (nullable = true)\n |-- FINAL_MARGIN: integer (nullable = true)\n |-- SHOT_NUMBER: integer (nullable = true)\n |-- PERIOD: integer (nullable = true)\n |-- GAME_CLOCK: timestamp (nullable = true)\n |-- SHOT_CLOCK: double (nullable = true)\n |-- DRIBBLES: integer (nullable = true)\n |-- TOUCH_TIME: double (nullable = true)\n |-- SHOT_DIST: double (nullable = true)\n |-- PTS_TYPE: integer (nullable = true)\n |-- SHOT_RESULT: string (nullable = true)\n |-- CLOSEST_DEFENDER: string (nullable = true)\n |-- CLOSEST_DEFENDER_PLAYER_ID: integer (nullable = true)\n |-- CLOSE_DEF_DIST: double (nullable = true)\n |-- FGM: integer (nullable = true)\n |-- PTS: integer (nullable = true)\n |-- player_name: string (nullable = true)\n |-- player_id: integer (nullable = true)\n\n"
     ]
    }
   ],
   "source": [
    "nba_data.printSchema()"
   ]
  },
  {
   "cell_type": "code",
   "execution_count": 0,
   "metadata": {
    "application/vnd.databricks.v1+cell": {
     "cellMetadata": {
      "byteLimit": 2048000,
      "rowLimit": 10000
     },
     "inputWidgets": {},
     "nuid": "60c87edb-32d9-40ce-84ec-1ffbe0061b01",
     "showTitle": false,
     "title": ""
    }
   },
   "outputs": [
    {
     "output_type": "stream",
     "name": "stdout",
     "output_type": "stream",
     "text": [
      "SHOT_CLOCK: 5567\n"
     ]
    }
   ],
   "source": [
    "null_counts = nba_data.select([\n",
    "    count(when(isnull(c), c)).alias(c) for c in nba_data.columns\n",
    "]).toPandas()\n",
    "\n",
    "for column, value in null_counts.iloc[0].items():\n",
    "    if value > 0:\n",
    "        print(f\"{column}: {value}\")"
   ]
  },
  {
   "cell_type": "markdown",
   "metadata": {
    "application/vnd.databricks.v1+cell": {
     "cellMetadata": {
      "byteLimit": 2048000,
      "rowLimit": 10000
     },
     "inputWidgets": {},
     "nuid": "12c13efa-2e68-4205-929a-d6b8dcd2e5c2",
     "showTitle": false,
     "title": ""
    }
   },
   "source": [
    "We need to handel the missing data only for numerical here"
   ]
  },
  {
   "cell_type": "code",
   "execution_count": 0,
   "metadata": {
    "application/vnd.databricks.v1+cell": {
     "cellMetadata": {
      "byteLimit": 2048000,
      "rowLimit": 10000
     },
     "inputWidgets": {},
     "nuid": "7f3d9e24-ee95-4ea0-b38e-ba9dbc28e630",
     "showTitle": false,
     "title": ""
    }
   },
   "outputs": [],
   "source": [
    "numerical_cols = [cols for cols, datatype in nba_data.dtypes if datatype in ('int', 'double')]\n",
    "# Lets fill the null values with average of the column since we have less missing values to handel\n",
    "# Calculate the average for all the numerical valeus\n",
    "averages = {col: nba_data.select(avg(col)).first()[0] for col in numerical_cols}\n",
    "\n",
    "# Now, fill the null values with the respective averages\n",
    "for feature in numerical_cols:\n",
    "    nba_data = nba_data.withColumn(feature, when(col(feature).isNull(), averages[feature]).otherwise(col(feature)))\n"
   ]
  },
  {
   "cell_type": "code",
   "execution_count": 0,
   "metadata": {
    "application/vnd.databricks.v1+cell": {
     "cellMetadata": {
      "byteLimit": 2048000,
      "rowLimit": 10000
     },
     "inputWidgets": {},
     "nuid": "8ceca9f2-9a11-41e5-ac39-3bfcf6b9ce6a",
     "showTitle": false,
     "title": ""
    }
   },
   "outputs": [
    {
     "output_type": "stream",
     "name": "stdout",
     "output_type": "stream",
     "text": [
      "False\n"
     ]
    }
   ],
   "source": [
    "null_counts = nba_data.select([\n",
    "    count(when(isnull(c), c)).alias(c) for c in nba_data.columns\n",
    "]).toPandas()\n",
    "\n",
    "flag = False\n",
    "for column, value in null_counts.iloc[0].items():\n",
    "    if value > 0:\n",
    "        print(f\"{column}: {value}\")\n",
    "        flag = True\n",
    "\n",
    "print(flag)\n"
   ]
  },
  {
   "cell_type": "markdown",
   "metadata": {
    "application/vnd.databricks.v1+cell": {
     "cellMetadata": {
      "byteLimit": 2048000,
      "rowLimit": 10000
     },
     "inputWidgets": {},
     "nuid": "fdd23a0b-3779-47c4-adca-f767c97cad5a",
     "showTitle": false,
     "title": ""
    }
   },
   "source": [
    "We have removed all the null values"
   ]
  },
  {
   "cell_type": "code",
   "execution_count": 0,
   "metadata": {
    "application/vnd.databricks.v1+cell": {
     "cellMetadata": {
      "byteLimit": 2048000,
      "rowLimit": 10000
     },
     "inputWidgets": {},
     "nuid": "111c7141-ca9f-4de8-aaec-5ddd523f5e0a",
     "showTitle": false,
     "title": ""
    }
   },
   "outputs": [
    {
     "output_type": "stream",
     "name": "stdout",
     "output_type": "stream",
     "text": [
      "Out[36]: [Row(Player_name='andre iguodala'),\n Row(Player_name='marreese speights'),\n Row(Player_name='marcin gortat'),\n Row(Player_name='wesley johnson'),\n Row(Player_name='trevor booker'),\n Row(Player_name='mike scott'),\n Row(Player_name='amir johnson'),\n Row(Player_name='gary neal'),\n Row(Player_name='jeremy lin'),\n Row(Player_name='dante exum'),\n Row(Player_name='trey burke'),\n Row(Player_name='jrue holiday'),\n Row(Player_name='luke babbitt'),\n Row(Player_name='michael kidd-gilchrist'),\n Row(Player_name='wayne ellington'),\n Row(Player_name='gordon hayward'),\n Row(Player_name='jordan hill'),\n Row(Player_name='nene hilario'),\n Row(Player_name='gerald henderson'),\n Row(Player_name='enes kanter'),\n Row(Player_name='rasual butler'),\n Row(Player_name='tyler hansbrough'),\n Row(Player_name='brian roberts'),\n Row(Player_name='kyle korver'),\n Row(Player_name='demarre carroll'),\n Row(Player_name='otto porter'),\n Row(Player_name='jason maxiell'),\n Row(Player_name='dante cunningham'),\n Row(Player_name='kobe bryant'),\n Row(Player_name='andrew bogut'),\n Row(Player_name='lance stephenson'),\n Row(Player_name='ronnie price'),\n Row(Player_name='jon ingles'),\n Row(Player_name='carlos boozer'),\n Row(Player_name='bradley beal'),\n Row(Player_name='kent bazemore'),\n Row(Player_name='rudy gobert'),\n Row(Player_name='kris humphries'),\n Row(Player_name='cody zeller'),\n Row(Player_name='stephen curry'),\n Row(Player_name='bismack biyombo'),\n Row(Player_name='john wall'),\n Row(Player_name='draymond green'),\n Row(Player_name='dennis schroder'),\n Row(Player_name='harrison barnes'),\n Row(Player_name='jeff teague'),\n Row(Player_name='omer asik'),\n Row(Player_name='ed davis'),\n Row(Player_name='leandro barbosa'),\n Row(Player_name='paul millsap'),\n Row(Player_name='al horford'),\n Row(Player_name='pero antic'),\n Row(Player_name='andre miller'),\n Row(Player_name='alexis ajinca'),\n Row(Player_name='kevin seraphin'),\n Row(Player_name='tyreke evans'),\n Row(Player_name='jimmer dredette'),\n Row(Player_name='derrick favors'),\n Row(Player_name='klay thompson'),\n Row(Player_name='anthony davis'),\n Row(Player_name='kyle lowry'),\n Row(Player_name='terrence ross'),\n Row(Player_name='kemba walker'),\n Row(Player_name='shaun livingston'),\n Row(Player_name='robert sacre'),\n Row(Player_name='al jefferson'),\n Row(Player_name='paul pierce'),\n Row(Player_name='ryan anderson'),\n Row(Player_name='marvin williams'),\n Row(Player_name='garrett temple'),\n Row(Player_name='thabo sefolosha'),\n Row(Player_name='nick young'),\n Row(Player_name='james johnson'),\n Row(Player_name='danny green'),\n Row(Player_name='donald sloan'),\n Row(Player_name='david west'),\n Row(Player_name='danilo gallinai'),\n Row(Player_name='kawhi leonard'),\n Row(Player_name='dirk nowtizski'),\n Row(Player_name='elfrid payton'),\n Row(Player_name='lebron james'),\n Row(Player_name='jose juan barea'),\n Row(Player_name='evan turner'),\n Row(Player_name='channing frye'),\n Row(Player_name='kevin love'),\n Row(Player_name='marcus thornton'),\n Row(Player_name='lavoy allen'),\n Row(Player_name='tony parker'),\n Row(Player_name='nikola vucevic'),\n Row(Player_name='lou williams'),\n Row(Player_name='jeff green'),\n Row(Player_name='victor oladipo'),\n Row(Player_name='aaron gordon'),\n Row(Player_name='darrell arthur'),\n Row(Player_name='kenneth faried'),\n Row(Player_name='jonas valanciunas'),\n Row(Player_name='devin harris'),\n Row(Player_name='arron afflalo'),\n Row(Player_name='solomon hill'),\n Row(Player_name='cj watson'),\n Row(Player_name='tobias harris'),\n Row(Player_name='chris copeland'),\n Row(Player_name='brandon bass'),\n Row(Player_name='avery bradley'),\n Row(Player_name='ben gordon'),\n Row(Player_name='mnta ellis'),\n Row(Player_name='kelly olynyk'),\n Row(Player_name='mike miller'),\n Row(Player_name='ty lawson'),\n Row(Player_name='boris diaw'),\n Row(Player_name='kyle oquinn'),\n Row(Player_name='matt bonner'),\n Row(Player_name='evan fournier'),\n Row(Player_name='luis scola'),\n Row(Player_name='joe harris'),\n Row(Player_name='chandler parsons'),\n Row(Player_name='richard jefferson'),\n Row(Player_name='marco belinelli'),\n Row(Player_name='al farouq aminu'),\n Row(Player_name='greg smith'),\n Row(Player_name='alonzo gee'),\n Row(Player_name='wilson chandler'),\n Row(Player_name='tyson chandler'),\n Row(Player_name='cj miles'),\n Row(Player_name='nate robinson'),\n Row(Player_name='patrick patterson'),\n Row(Player_name='aron baynes'),\n Row(Player_name='shawn marion'),\n Row(Player_name='jusuf nurkic'),\n Row(Player_name='tristan thompson'),\n Row(Player_name='jared sullinger'),\n Row(Player_name='greivis vasquez'),\n Row(Player_name='kyrie irving'),\n Row(Player_name='charlie villanueva'),\n Row(Player_name='damjan rudez'),\n Row(Player_name='cory joseph'),\n Row(Player_name='roy hibbert'),\n Row(Player_name='rodney stuckey'),\n Row(Player_name='timofey mozgov'),\n Row(Player_name='matthew dellavedova'),\n Row(Player_name='marcus smart'),\n Row(Player_name='tyler zeller'),\n Row(Player_name='tim duncan'),\n Row(Player_name='manu ginobili'),\n Row(Player_name='eric bledsoe'),\n Row(Player_name='shabazz napier'),\n Row(Player_name='jared dudley'),\n Row(Player_name='beno urdih'),\n Row(Player_name='udonis haslem'),\n Row(Player_name='jason thompson'),\n Row(Player_name='quincy acy'),\n Row(Player_name='brandon knight'),\n Row(Player_name='donatas motiejunas'),\n Row(Player_name='chris bosh'),\n Row(Player_name='goran dragic'),\n Row(Player_name='john henson'),\n Row(Player_name='shane larkin'),\n Row(Player_name='carmelo anthony'),\n Row(Player_name='travis wear'),\n Row(Player_name='jerami grant'),\n Row(Player_name='kosta koufos'),\n Row(Player_name='kj mcdaniels'),\n Row(Player_name='pablo prigioni'),\n Row(Player_name='jj hickson'),\n Row(Player_name='courtney lee'),\n Row(Player_name='zaza pachulia'),\n Row(Player_name='jason terry'),\n Row(Player_name='jose calderon'),\n Row(Player_name='time hardaway jr'),\n Row(Player_name='hollis thompson'),\n Row(Player_name='robert covington'),\n Row(Player_name='alex len'),\n Row(Player_name='marcus morris'),\n Row(Player_name='chris andersen'),\n Row(Player_name='tony allen'),\n Row(Player_name='vince carter'),\n Row(Player_name='luol deng'),\n Row(Player_name='greg monroe'),\n Row(Player_name='jerryd bayless'),\n Row(Player_name='trevor ariza'),\n Row(Player_name='markieff morris'),\n Row(Player_name='michael carter-williams'),\n Row(Player_name='mario chalmers'),\n Row(Player_name='isaiah thomas'),\n Row(Player_name='gerald green'),\n Row(Player_name='patrick beverley'),\n Row(Player_name='joey dorsey'),\n Row(Player_name='james harden'),\n Row(Player_name='marc gasol'),\n Row(Player_name='jakarr sampson'),\n Row(Player_name='giannis antetokounmpo'),\n Row(Player_name='henry sims'),\n Row(Player_name='jon leuer'),\n Row(Player_name='norris cole'),\n Row(Player_name='dwayne wade'),\n Row(Player_name='brandon jennings'),\n Row(Player_name='luc mbah a moute'),\n Row(Player_name='james ennis'),\n Row(Player_name='kostas papanikolaou'),\n Row(Player_name='kentavious caldwell-pope'),\n Row(Player_name='jason smith'),\n Row(Player_name='andre drummond'),\n Row(Player_name='shawne williams'),\n Row(Player_name='dj augustin'),\n Row(Player_name='jonas jerebko'),\n Row(Player_name='kyle singler'),\n Row(Player_name='zach randolph'),\n Row(Player_name='cole aldrich'),\n Row(Player_name='khris middleton'),\n Row(Player_name='amare stoudemire'),\n Row(Player_name='oj mayo'),\n Row(Player_name='caron butler'),\n Row(Player_name='mike conley'),\n Row(Player_name='nerles noel'),\n Row(Player_name='pj tucker'),\n Row(Player_name='dwight howard'),\n Row(Player_name='mason plumlee'),\n Row(Player_name='ramon sessions'),\n Row(Player_name='matt barnes'),\n Row(Player_name='damian lillard'),\n Row(Player_name='taj gibson'),\n Row(Player_name='rudy gay'),\n Row(Player_name='demarcus cousins'),\n Row(Player_name='carl landry'),\n Row(Player_name='ben mclemore'),\n Row(Player_name='nikola mirotic'),\n Row(Player_name='zach lavine'),\n Row(Player_name='wesley matthews'),\n Row(Player_name='kevin garnett'),\n Row(Player_name='jeremy lamb'),\n Row(Player_name='chris kaman'),\n Row(Player_name='alan crabbe'),\n Row(Player_name='andrew wiggins'),\n Row(Player_name='nik stauskas'),\n Row(Player_name='chris paul'),\n Row(Player_name='nicolas batum'),\n Row(Player_name='kirk hinrich'),\n Row(Player_name='deandre jordan'),\n Row(Player_name='bojan bogdanovic'),\n Row(Player_name='omri casspi'),\n Row(Player_name='pau gasol'),\n Row(Player_name='jimmy butler'),\n Row(Player_name='blake griffin'),\n Row(Player_name='jarrett jack'),\n Row(Player_name='hedo turkoglu'),\n Row(Player_name='derrick williams'),\n Row(Player_name='shabazz muhammad'),\n Row(Player_name='robbie hummel'),\n Row(Player_name='alan anderson'),\n Row(Player_name='mirza teletovic'),\n Row(Player_name='serge ibaka'),\n Row(Player_name='ray mccallum'),\n Row(Player_name='brook lopez'),\n Row(Player_name='kendrick perkins'),\n Row(Player_name='nick collison'),\n Row(Player_name='derrick rose'),\n Row(Player_name='russell westbrook'),\n Row(Player_name='anthony morrow'),\n Row(Player_name='tony snell'),\n Row(Player_name='steve adams'),\n Row(Player_name='mo williams'),\n Row(Player_name='glen davis'),\n Row(Player_name='jamal crawford'),\n Row(Player_name='chase budinger'),\n Row(Player_name='cj mccollum'),\n Row(Player_name='jj redick'),\n Row(Player_name='jordan farmar'),\n Row(Player_name='reggie jackson'),\n Row(Player_name='andre roberson'),\n Row(Player_name='joe johnson'),\n Row(Player_name='darren collison'),\n Row(Player_name='joakim noah'),\n Row(Player_name='steve blake'),\n Row(Player_name='gorgui dieng'),\n Row(Player_name='jerome jordan'),\n Row(Player_name='spencer hawes'),\n Row(Player_name='aaron brooks'),\n Row(Player_name='lamarcus aldridge'),\n Row(Player_name='anthony bennett'),\n Row(Player_name='deron williams'),\n Row(Player_name='thaddeus young')]"
     ]
    }
   ],
   "source": [
    "nba_data.select('Player_name').distinct().collect()"
   ]
  },
  {
   "cell_type": "code",
   "execution_count": 0,
   "metadata": {
    "application/vnd.databricks.v1+cell": {
     "cellMetadata": {
      "byteLimit": 2048000,
      "rowLimit": 10000
     },
     "inputWidgets": {},
     "nuid": "496a99b6-4254-4c8a-9930-ff00c9897ed0",
     "showTitle": false,
     "title": ""
    }
   },
   "outputs": [],
   "source": [
    "nba_data.createTempView(\"nbatemp\")"
   ]
  },
  {
   "cell_type": "code",
   "execution_count": 0,
   "metadata": {
    "application/vnd.databricks.v1+cell": {
     "cellMetadata": {
      "byteLimit": 2048000,
      "rowLimit": 10000
     },
     "inputWidgets": {},
     "nuid": "c4018daf-a748-431b-9f2e-4cacba067dc7",
     "showTitle": false,
     "title": ""
    }
   },
   "outputs": [
    {
     "output_type": "stream",
     "name": "stdout",
     "output_type": "stream",
     "text": [
      "+--------+----------+---------+-----------+\n|PlayerID|DefenderID|made_shot|missed_shot|\n+--------+----------+---------+-----------+\n|203148.0|  101111.0|        0|          1|\n|202390.0|  201581.0|        0|          1|\n|201945.0|  203488.0|        1|          0|\n|201945.0|  203084.0|        1|          2|\n|203077.0|    2403.0|        0|          1|\n|202362.0|  201959.0|        1|          0|\n|101107.0|    1717.0|        3|          2|\n|101131.0|  202334.0|        1|          0|\n|202330.0|  202325.0|        8|          4|\n|202330.0|  203110.0|        3|          3|\n|203957.0|  201145.0|        0|          1|\n|203504.0|  101150.0|        0|          3|\n|  2430.0|  203076.0|        4|          5|\n|   977.0|  203076.0|        0|          3|\n|   977.0|  201609.0|        1|          3|\n|   977.0|    2744.0|        0|          1|\n|101179.0|  203084.0|        0|          1|\n|202325.0|    1938.0|        4|          1|\n|201941.0|    2403.0|        2|          3|\n|201941.0|    1495.0|        1|         11|\n+--------+----------+---------+-----------+\nonly showing top 20 rows\n\n"
     ]
    }
   ],
   "source": [
    "# Combine the players by their ids and closest defender and caculate the how many times the player has made or missed the sot when an particular defender is nearby\n",
    "\n",
    "nba_grouped_ppid = spark.sql('''SELECT player_id AS PlayerID, CLOSEST_DEFENDER_PLAYER_ID AS DefenderID,\n",
    "                        SUM(CASE WHEN SHOT_RESULT = 'made' THEN 1 ELSE 0 END) AS made_shot,\n",
    "                        SUM(CASE WHEN SHOT_RESULT = 'missed' THEN 1 ELSE 0 END) AS missed_shot FROM nbatemp\n",
    "                        GROUP BY player_id, CLOSEST_DEFENDER_PLAYER_ID''')\n",
    "nba_grouped_ppid.show()\n"
   ]
  },
  {
   "cell_type": "code",
   "execution_count": 0,
   "metadata": {
    "application/vnd.databricks.v1+cell": {
     "cellMetadata": {
      "byteLimit": 2048000,
      "rowLimit": 10000
     },
     "inputWidgets": {},
     "nuid": "735c29b9-e866-4e74-8a5b-4c5461581b53",
     "showTitle": false,
     "title": ""
    }
   },
   "outputs": [
    {
     "output_type": "stream",
     "name": "stdout",
     "output_type": "stream",
     "text": [
      "+--------+----------+---------+-----------+-------------------+\n|PlayerID|DefenderID|made_shot|missed_shot|              Ratio|\n+--------+----------+---------+-----------+-------------------+\n|202391.0|  202684.0|        2|          3|                0.4|\n|  1718.0|  200782.0|        3|          5|              0.375|\n|202338.0|  201599.0|        2|          1| 0.6666666666666666|\n|101161.0|  202332.0|        2|          1| 0.6666666666666666|\n|201600.0|  200794.0|        4|          1|                0.8|\n|203148.0|  201571.0|        2|          3|                0.4|\n|202691.0|  201961.0|        1|          4|                0.2|\n|  2744.0|    2199.0|        5|         13| 0.2777777777777778|\n|  1938.0|  201155.0|        2|          1| 0.6666666666666666|\n|203521.0|  203114.0|        1|          2| 0.3333333333333333|\n|203142.0|  101187.0|        1|          3|               0.25|\n|201949.0|  201933.0|        1|          2| 0.3333333333333333|\n|201589.0|    2207.0|        3|          4|0.42857142857142855|\n|  2225.0|  201599.0|        3|          8| 0.2727272727272727|\n|201574.0|    2585.0|        1|          2| 0.3333333333333333|\n|201943.0|  203492.0|        4|          2| 0.6666666666666666|\n|203156.0|    2555.0|        3|          2|                0.6|\n|  1891.0|    2734.0|        1|          4|                0.2|\n|201973.0|    2217.0|        2|          1| 0.6666666666666666|\n|203894.0|  202340.0|        1|          4|                0.2|\n+--------+----------+---------+-----------+-------------------+\nonly showing top 20 rows\n\n"
     ]
    }
   ],
   "source": [
    "# Calculate the ratio for each defender and player pair and removing the duplicates, and remove the null values\n",
    "nba_grouped_ppid = nba_grouped_ppid.withColumn(\"Ratio\", expr(\"made_shot / (made_shot + missed_shot)\"))\n",
    "nba_grouped_ppid = nba_grouped_ppid.dropDuplicates([\"PlayerID\", \"Ratio\"]).filter(\"Ratio is not null\")\n",
    "nba_grouped_ppid.show()"
   ]
  },
  {
   "cell_type": "code",
   "execution_count": 0,
   "metadata": {
    "application/vnd.databricks.v1+cell": {
     "cellMetadata": {
      "byteLimit": 2048000,
      "rowLimit": 10000
     },
     "inputWidgets": {},
     "nuid": "39eea190-60eb-4d96-995e-1280d22898ad",
     "showTitle": false,
     "title": ""
    }
   },
   "outputs": [],
   "source": [
    "# We will now group each player and calculate min ratio for combo(pair of defender and player) and get the minimum\n",
    "df_6 = nba_grouped_ppid.groupBy(\"PlayerID\").agg({\"Ratio\": \"min\"}).withColumn(\"Ratio\", col(\"min(Ratio)\"))\n",
    "\n",
    "combined_data = nba_grouped_ppid.join(df_6, [\"PlayerID\", \"Ratio\"]).drop(\"Ratio\").select(\"PlayerID\", \"DefenderID\")\n",
    "\n",
    "combined_data = combined_data.join(nba_data, (combined_data[\"PlayerID\"] == nba_data[\"player_id\"]) & (combined_data[\"DefenderID\"] == nba_data[\"CLOSEST_DEFENDER_PLAYER_ID\"]))"
   ]
  },
  {
   "cell_type": "code",
   "execution_count": 0,
   "metadata": {
    "application/vnd.databricks.v1+cell": {
     "cellMetadata": {
      "byteLimit": 2048000,
      "rowLimit": 10000
     },
     "inputWidgets": {},
     "nuid": "4bf6dccc-e535-454d-9177-abff1ffe7790",
     "showTitle": false,
     "title": ""
    }
   },
   "outputs": [
    {
     "output_type": "stream",
     "name": "stdout",
     "output_type": "stream",
     "text": [
      "+--------+----------+--------------+---------------------------+\n|PlayerID|DefenderID|   Player Name|Useless Player/Kuppa Paiyan|\n+--------+----------+--------------+---------------------------+\n|   708.0|  202344.0| kevin garnett|             Booker, Trevor|\n|   977.0|  203076.0|   kobe bryant|             Davis, Anthony|\n|  1495.0|  201144.0|    tim duncan|               Conley, Mike|\n|  1713.0|  202330.0|  vince carter|            Hayward, Gordon|\n|  1717.0|  202738.0|dirk nowtizski|             Thomas, Isaiah|\n|  1718.0|  200765.0|   paul pierce|               Rondo, Rajon|\n|  1889.0|  203473.0|  andre miller|            Dedmon, Dewayne|\n|  1890.0|  201564.0|  shawn marion|                 Mayo, O.J.|\n|  1891.0|  203100.0|   jason terry|               Wroten, Tony|\n|  1938.0|  202390.0| manu ginobili|                 Neal, Gary|\n+--------+----------+--------------+---------------------------+\n\n"
     ]
    }
   ],
   "source": [
    "# displaying the relevant answer\n",
    "df_6 = combined_data.groupBy(\"PlayerID\", \"DefenderID\") \\\n",
    "                    .agg(first(\"player_name\").alias(\"Player Name\"), first(\"CLOSEST_DEFENDER\").alias(\"Useless Player/Kuppa Paiyan\")) \\\n",
    "                    .orderBy(\"PlayerID\") \\\n",
    "                    .limit(10)\n",
    "\n",
    "df_6.show()"
   ]
  },
  {
   "cell_type": "markdown",
   "metadata": {
    "application/vnd.databricks.v1+cell": {
     "cellMetadata": {
      "byteLimit": 2048000,
      "rowLimit": 10000
     },
     "inputWidgets": {},
     "nuid": "11cdee5a-9615-43d1-a260-e2971ddd8bda",
     "showTitle": false,
     "title": ""
    }
   },
   "source": [
    "# Question 7: For each player, we define the comfortable zone of shooting is a matrix of, {SHOT DIST, CLOSE DEF DIST, SHOT CLOCK} Please develop a Spark-based algorithm to classify each player’s records intocomfort- able zones. Considering the hit rate, which zone is the best for James Harden, Chris Paul, Stephen Curry, and Lebron James"
   ]
  },
  {
   "cell_type": "code",
   "execution_count": 0,
   "metadata": {
    "application/vnd.databricks.v1+cell": {
     "cellMetadata": {
      "byteLimit": 2048000,
      "rowLimit": 10000
     },
     "inputWidgets": {},
     "nuid": "c90a6395-a64b-4f44-b722-391adf9ca3e1",
     "showTitle": false,
     "title": ""
    }
   },
   "outputs": [
    {
     "output_type": "display_data",
     "data": {
      "text/plain": [
       "\u001B[0;31m---------------------------------------------------------------------------\u001B[0m\n",
       "\u001B[0;31mNameError\u001B[0m                                 Traceback (most recent call last)\n",
       "File \u001B[0;32m<command-3982461511713310>:5\u001B[0m\n",
       "\u001B[1;32m      1\u001B[0m \u001B[38;5;66;03m# Fill the zone information based on the shot distance, close def distance, low clock\u001B[39;00m\n",
       "\u001B[1;32m      2\u001B[0m df_7 \u001B[38;5;241m=\u001B[39m nba_data\u001B[38;5;241m.\u001B[39mwithColumn(\n",
       "\u001B[1;32m      3\u001B[0m     \u001B[38;5;124m'\u001B[39m\u001B[38;5;124mzone\u001B[39m\u001B[38;5;124m'\u001B[39m,\n",
       "\u001B[1;32m      4\u001B[0m     concat(\n",
       "\u001B[0;32m----> 5\u001B[0m         f\u001B[38;5;241m.\u001B[39mwhen(nba_data\u001B[38;5;241m.\u001B[39mSHOT_DIST \u001B[38;5;241m<\u001B[39m\u001B[38;5;241m=\u001B[39m \u001B[38;5;241m15\u001B[39m, \u001B[38;5;124m'\u001B[39m\u001B[38;5;124m_Close_range_shot\u001B[39m\u001B[38;5;124m'\u001B[39m)\u001B[38;5;241m.\u001B[39motherwise(\u001B[38;5;124m'\u001B[39m\u001B[38;5;124m_Long_shot\u001B[39m\u001B[38;5;124m'\u001B[39m),\n",
       "\u001B[1;32m      6\u001B[0m         f\u001B[38;5;241m.\u001B[39mwhen(nba_data\u001B[38;5;241m.\u001B[39mSHOT_CLOCK \u001B[38;5;241m<\u001B[39m\u001B[38;5;241m=\u001B[39m \u001B[38;5;241m12\u001B[39m, \u001B[38;5;124m'\u001B[39m\u001B[38;5;124m_Quick\u001B[39m\u001B[38;5;124m'\u001B[39m)\u001B[38;5;241m.\u001B[39motherwise(\u001B[38;5;124m'\u001B[39m\u001B[38;5;124m_Slow\u001B[39m\u001B[38;5;124m'\u001B[39m),\n",
       "\u001B[1;32m      7\u001B[0m         f\u001B[38;5;241m.\u001B[39mwhen(nba_data\u001B[38;5;241m.\u001B[39mCLOSE_DEF_DIST \u001B[38;5;241m<\u001B[39m\u001B[38;5;241m=\u001B[39m \u001B[38;5;241m5\u001B[39m, \u001B[38;5;124m'\u001B[39m\u001B[38;5;124m_close_by\u001B[39m\u001B[38;5;124m'\u001B[39m)\u001B[38;5;241m.\u001B[39motherwise(\u001B[38;5;124m'\u001B[39m\u001B[38;5;124m_distant\u001B[39m\u001B[38;5;124m'\u001B[39m)  \n",
       "\u001B[1;32m      8\u001B[0m     )\n",
       "\u001B[1;32m      9\u001B[0m )\n",
       "\u001B[1;32m     10\u001B[0m df_7\u001B[38;5;241m.\u001B[39mshow()\n",
       "\n",
       "\u001B[0;31mNameError\u001B[0m: name 'f' is not defined"
      ]
     },
     "metadata": {
      "application/vnd.databricks.v1+output": {
       "arguments": {},
       "data": "\u001B[0;31m---------------------------------------------------------------------------\u001B[0m\n\u001B[0;31mNameError\u001B[0m                                 Traceback (most recent call last)\nFile \u001B[0;32m<command-3982461511713310>:5\u001B[0m\n\u001B[1;32m      1\u001B[0m \u001B[38;5;66;03m# Fill the zone information based on the shot distance, close def distance, low clock\u001B[39;00m\n\u001B[1;32m      2\u001B[0m df_7 \u001B[38;5;241m=\u001B[39m nba_data\u001B[38;5;241m.\u001B[39mwithColumn(\n\u001B[1;32m      3\u001B[0m     \u001B[38;5;124m'\u001B[39m\u001B[38;5;124mzone\u001B[39m\u001B[38;5;124m'\u001B[39m,\n\u001B[1;32m      4\u001B[0m     concat(\n\u001B[0;32m----> 5\u001B[0m         f\u001B[38;5;241m.\u001B[39mwhen(nba_data\u001B[38;5;241m.\u001B[39mSHOT_DIST \u001B[38;5;241m<\u001B[39m\u001B[38;5;241m=\u001B[39m \u001B[38;5;241m15\u001B[39m, \u001B[38;5;124m'\u001B[39m\u001B[38;5;124m_Close_range_shot\u001B[39m\u001B[38;5;124m'\u001B[39m)\u001B[38;5;241m.\u001B[39motherwise(\u001B[38;5;124m'\u001B[39m\u001B[38;5;124m_Long_shot\u001B[39m\u001B[38;5;124m'\u001B[39m),\n\u001B[1;32m      6\u001B[0m         f\u001B[38;5;241m.\u001B[39mwhen(nba_data\u001B[38;5;241m.\u001B[39mSHOT_CLOCK \u001B[38;5;241m<\u001B[39m\u001B[38;5;241m=\u001B[39m \u001B[38;5;241m12\u001B[39m, \u001B[38;5;124m'\u001B[39m\u001B[38;5;124m_Quick\u001B[39m\u001B[38;5;124m'\u001B[39m)\u001B[38;5;241m.\u001B[39motherwise(\u001B[38;5;124m'\u001B[39m\u001B[38;5;124m_Slow\u001B[39m\u001B[38;5;124m'\u001B[39m),\n\u001B[1;32m      7\u001B[0m         f\u001B[38;5;241m.\u001B[39mwhen(nba_data\u001B[38;5;241m.\u001B[39mCLOSE_DEF_DIST \u001B[38;5;241m<\u001B[39m\u001B[38;5;241m=\u001B[39m \u001B[38;5;241m5\u001B[39m, \u001B[38;5;124m'\u001B[39m\u001B[38;5;124m_close_by\u001B[39m\u001B[38;5;124m'\u001B[39m)\u001B[38;5;241m.\u001B[39motherwise(\u001B[38;5;124m'\u001B[39m\u001B[38;5;124m_distant\u001B[39m\u001B[38;5;124m'\u001B[39m)  \n\u001B[1;32m      8\u001B[0m     )\n\u001B[1;32m      9\u001B[0m )\n\u001B[1;32m     10\u001B[0m df_7\u001B[38;5;241m.\u001B[39mshow()\n\n\u001B[0;31mNameError\u001B[0m: name 'f' is not defined",
       "errorSummary": "<span class='ansi-red-fg'>NameError</span>: name 'f' is not defined",
       "errorTraceType": "ansi",
       "metadata": {},
       "type": "ipynbError"
      }
     },
     "output_type": "display_data"
    }
   ],
   "source": [
    "# Fill the zone information based on the shot distance, close def distance, low clock\n",
    "df_7 = nba_data.withColumn(\n",
    "    'zone',\n",
    "    concat(\n",
    "        f.when(nba_data.SHOT_DIST <= 15, '_Close_range_shot').otherwise('_Long_shot'),\n",
    "        f.when(nba_data.SHOT_CLOCK <= 12, '_Quick').otherwise('_Slow'),\n",
    "        f.when(nba_data.CLOSE_DEF_DIST <= 5, '_close_by').otherwise('_distant')  \n",
    "    )\n",
    ")\n",
    "df_7.show()\n",
    "\n"
   ]
  },
  {
   "cell_type": "code",
   "execution_count": 0,
   "metadata": {
    "application/vnd.databricks.v1+cell": {
     "cellMetadata": {
      "byteLimit": 2048000,
      "rowLimit": 10000
     },
     "inputWidgets": {},
     "nuid": "368adf03-1697-4762-ab67-89c069d726bb",
     "showTitle": false,
     "title": ""
    }
   },
   "outputs": [
    {
     "output_type": "display_data",
     "data": {
      "text/plain": [
       ""
      ]
     },
     "metadata": {
      "application/vnd.databricks.v1+output": {
       "arguments": {},
       "data": "",
       "errorSummary": "Command skipped",
       "errorTraceType": "ansi",
       "metadata": {},
       "type": "ipynbError"
      }
     },
     "output_type": "display_data"
    }
   ],
   "source": [
    "# Calculate ratio for each player in different zones\n",
    "ratio_for_player_for_zones = df_7.filter(\n",
    "    df_7.player_name.isin(['james harden', 'chris paul', 'stephen curry', 'lebron james'])\n",
    ").groupBy('player_name', 'zone').agg(\n",
    "    f.sum('FGM'),\n",
    "    f.count('SHOT_NUMBER').alias('Total count of shots'),\n",
    "    (f.sum('FGM') / f.count('SHOT_NUMBER')).alias('hit_rate')\n",
    ")\n",
    "ratio_for_player_for_zones.show()\n",
    "\n"
   ]
  },
  {
   "cell_type": "code",
   "execution_count": 0,
   "metadata": {
    "application/vnd.databricks.v1+cell": {
     "cellMetadata": {
      "byteLimit": 2048000,
      "rowLimit": 10000
     },
     "inputWidgets": {},
     "nuid": "3441c92b-1924-498c-b50a-0af1964756db",
     "showTitle": false,
     "title": ""
    }
   },
   "outputs": [
    {
     "output_type": "display_data",
     "data": {
      "text/plain": [
       ""
      ]
     },
     "metadata": {
      "application/vnd.databricks.v1+output": {
       "arguments": {},
       "data": "",
       "errorSummary": "Command skipped",
       "errorTraceType": "ansi",
       "metadata": {},
       "type": "ipynbError"
      }
     },
     "output_type": "display_data"
    }
   ],
   "source": [
    "# Get the best zone for each player based on the ratio of above table\n",
    "player_best_zones_df = ratio_for_player_for_zones.withColumn(\n",
    "    'rank',\n",
    "    f.rank().over(Window.partitionBy('player_name').orderBy(f.desc('hit_rate')))\n",
    ").filter(f.col('rank') == 1).drop('rank')\n",
    "player_best_zones_df.show()"
   ]
  },
  {
   "cell_type": "code",
   "execution_count": 0,
   "metadata": {
    "application/vnd.databricks.v1+cell": {
     "cellMetadata": {
      "byteLimit": 2048000,
      "rowLimit": 10000
     },
     "inputWidgets": {},
     "nuid": "1ff40542-c62b-4470-ac00-b2ceb9397f1b",
     "showTitle": false,
     "title": ""
    }
   },
   "outputs": [],
   "source": []
  }
 ],
 "metadata": {
  "application/vnd.databricks.v1+notebook": {
   "dashboards": [],
   "language": "python",
   "notebookMetadata": {
    "pythonIndentUnit": 4
   },
   "notebookName": "ECC Trail-run",
   "widgets": {}
  }
 },
 "nbformat": 4,
 "nbformat_minor": 0
}
